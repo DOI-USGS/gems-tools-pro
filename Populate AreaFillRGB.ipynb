{
 "cells": [
  {
   "cell_type": "markdown",
   "metadata": {},
   "source": [
    "# Populate AreaFillRGB in the DMU table\n",
    "This is a Jupyter Notebook with some code and examples to show you how to auto-populate the `AreaFillRGB` field in the `DescriptionOfMapUnits` table based on the `MapUnit` or `Symbol` fields in the DMU and either a style file you are using or the actual layer renderer in an active map. I will eventually turn this into a tool in the GeMS Tools toolbox when I have more time but the great thing about a Jupyter Notebook is that there is context and documentation right beside the code. \n",
    "\n",
    "Using this Notebook requires a basic understanding of Python, Jupyter Notebooks, and JSON. You will have to set some Python variables to the catalog paths of some objects such as geodatabases and style files. To make some decisions about how to proceed, you will have to inspect some properties of objects by looking at some tables and lists of values. There is discussion of some complicated concepts that are provided only for context, but you don't to understand everything brought up.\n",
    "\n",
    "Remember to set the focus on each cell that needs to run for your particular situation and press shift-enter to run the code.\n",
    "\n",
    "A related Notebook is [Make Stylx Symbols](https://github.com/DOI-USGS/gems-tools-pro/blob/notebooks/Make%20Stylx%20Symbols.ipynb), which, like this one, has an example of accessing symbol properties in a stylx file.\n",
    "\n",
    "Start at [Step 1](#one)* if symbols are in a style\n",
    "\n",
    "Start at [Step 2](#two)* if symbols are in a layer renderer in a map\n",
    "\n",
    "*internal links to anchor headings don't work for me in ArcGIS Pro, but do in a standalone Jupyter Notebook."
   ]
  },
  {
   "cell_type": "code",
   "execution_count": 47,
   "metadata": {},
   "outputs": [],
   "source": [
    "import json\n",
    "import csv\n",
    "import sqlite3\n",
    "import pandas as pd\n",
    "from pprint import pprint\n",
    "import colorsys\n",
    "from itertools import islice"
   ]
  },
  {
   "cell_type": "markdown",
   "metadata": {},
   "source": [
    "## Functions\n",
    "You can keep this section folded out of sight if you like. You don't have to change anything here but do run each of these cells."
   ]
  },
  {
   "cell_type": "code",
   "execution_count": 14,
   "metadata": {},
   "outputs": [],
   "source": [
    "def color_convert(space, values, n=2):\n",
    "    # between the built-in standard library of colorsys, the cmyk_to_rgb function below, and a simple\n",
    "    # conversion from grayscale (that might not be completely accurate) we have the conversion from 6\n",
    "    # of the color spaces you can choose to use in ArcGIS Pro to RGB covered.\n",
    "    # Hopefully, no one is selecting colors by using the LAB space\n",
    "    if space == 'CIMCMYKColor': \n",
    "        return cmyk_to_rgb(values, n)\n",
    "    \n",
    "    elif space == 'CIMHSLColor': \n",
    "        h, s, l = values[0]/360, values[1]/100, values[2]/100\n",
    "        rgb = colorsys.hls_to_rgb(h, l, s)\n",
    "        rgb = [round(c*255, n) for c in rgb]\n",
    "        return [rgb[0], rgb[1], rgb[2]]\n",
    "    \n",
    "    elif space == 'CIMHSVColor':\n",
    "        h, s, v = values[0]/360, values[1]/100, values[2]/100\n",
    "        rgb = colorsys.hsv_to_rgb(h, s, v)\n",
    "        rgb = [round(c*255, n) for c in rgb]\n",
    "        return [rgb[0], rgb[1], rgb[2]]\n",
    "    \n",
    "    elif space == 'CIMRGBColor':\n",
    "        return [v[0], v[1], v[2]]\n",
    "    \n",
    "    elif space == \"CIMGrayColor\":\n",
    "        return [v[0], v[0], v[0]]"
   ]
  },
  {
   "cell_type": "code",
   "execution_count": 15,
   "metadata": {},
   "outputs": [],
   "source": [
    "def cmyk_to_rgb(cmyk, n='int', cmyk_scale=100, rgb_scale=255):\n",
    "    c = cmyk[0]\n",
    "    m = cmyk[1]\n",
    "    y = cmyk[2]\n",
    "    k = cmyk[3]\n",
    "    r = rgb_scale * (1.0 - c / float(cmyk_scale)) * (1.0 - k / float(cmyk_scale))\n",
    "    g = rgb_scale * (1.0 - m / float(cmyk_scale)) * (1.0 - k / float(cmyk_scale))\n",
    "    b = rgb_scale * (1.0 - y / float(cmyk_scale)) * (1.0 - k / float(cmyk_scale))\n",
    "    \n",
    "    if n == 'int':\n",
    "        r = int(r)\n",
    "        g = int(g)\n",
    "        b = int(b)\n",
    "    elif n == 0:\n",
    "        r = r\n",
    "        g = g\n",
    "        b = b\n",
    "    else:\n",
    "        r = round(r, n)\n",
    "        g = round(g, n)\n",
    "        b = round(b, n)\n",
    "    \n",
    "    return f\"{str(r)}, {str(g)}, {str(b)}\""
   ]
  },
  {
   "cell_type": "code",
   "execution_count": 45,
   "metadata": {},
   "outputs": [],
   "source": [
    "def get_class(class_string):\n",
    "    \"\"\"When the CIM definition of a layer is retrieved with arcpy all 'type' values (which,\n",
    "    in the JSON representation, appear as strings starting with 'CIM'  ) are instantiated as \n",
    "    CIM objects and there is no .type attribute to interrogate through dot notation. Because \n",
    "    of that, it is difficult to discover what kind of object is being evaluated when iterating.\n",
    "    This function cleans up the .__class__ string so that the CIM type is returned\"\"\"\n",
    "    clean_str = str(class_string).split(\".\")[-1]\n",
    "    clean_str = clean_str.rstrip(\">'\")\n",
    "                                 \n",
    "    return clean_str"
   ]
  },
  {
   "cell_type": "code",
   "execution_count": 48,
   "metadata": {},
   "outputs": [],
   "source": [
    "def take(n, iterable):\n",
    "    \"\"\"Return the first n items of the iterable as a list.\"\"\"\n",
    "    return list(islice(iterable, n))"
   ]
  },
  {
   "cell_type": "markdown",
   "metadata": {},
   "source": [
    "<a id=\"one\"></a>"
   ]
  },
  {
   "cell_type": "markdown",
   "metadata": {},
   "source": [
    "## 1. Use a style file to look up colors\n",
    "Start here if your symbols are stored in a style file."
   ]
  },
  {
   "cell_type": "markdown",
   "metadata": {},
   "source": [
    "### 1.1 Explore the style file\n",
    "ArcGIS style files are SQLite databases with a specified set of tables. The important one for us is called `Items`. Take a look at the columns and a few rows of this table to become familiar with what the rest of this Notebook does."
   ]
  },
  {
   "cell_type": "code",
   "execution_count": null,
   "metadata": {},
   "outputs": [
    {
     "data": {
      "text/html": [
       "<div>\n",
       "<style scoped>\n",
       "    .dataframe tbody tr th:only-of-type {\n",
       "        vertical-align: middle;\n",
       "    }\n",
       "\n",
       "    .dataframe tbody tr th {\n",
       "        vertical-align: top;\n",
       "    }\n",
       "\n",
       "    .dataframe thead th {\n",
       "        text-align: right;\n",
       "    }\n",
       "</style>\n",
       "<table border=\"1\" class=\"dataframe\">\n",
       "  <thead>\n",
       "    <tr style=\"text-align: right;\">\n",
       "      <th></th>\n",
       "      <th>ID</th>\n",
       "      <th>CLASS</th>\n",
       "      <th>CATEGORY</th>\n",
       "      <th>NAME</th>\n",
       "      <th>TAGS</th>\n",
       "      <th>CONTENT</th>\n",
       "      <th>KEY</th>\n",
       "    </tr>\n",
       "  </thead>\n",
       "  <tbody>\n",
       "    <tr>\n",
       "      <th>0</th>\n",
       "      <td>1786</td>\n",
       "      <td>4</td>\n",
       "      <td>1.1 - Contacts</td>\n",
       "      <td>01.01.01</td>\n",
       "      <td>Contact—Identity and existence certain, locati...</td>\n",
       "      <td>{\"type\":\"CIMLineSymbol\",\"symbolLayers\":[{\"type...</td>\n",
       "      <td>1786</td>\n",
       "    </tr>\n",
       "    <tr>\n",
       "      <th>1</th>\n",
       "      <td>1787</td>\n",
       "      <td>4</td>\n",
       "      <td>1.1 - Contacts</td>\n",
       "      <td>01.01.02</td>\n",
       "      <td>Contact—Identity or existence questionable, lo...</td>\n",
       "      <td>{\"type\":\"CIMLineSymbol\",\"symbolLayers\":[{\"type...</td>\n",
       "      <td>1787</td>\n",
       "    </tr>\n",
       "    <tr>\n",
       "      <th>2</th>\n",
       "      <td>1788</td>\n",
       "      <td>4</td>\n",
       "      <td>1.1 - Contacts</td>\n",
       "      <td>01.01.03</td>\n",
       "      <td>Contact—Identity and existence certain, locati...</td>\n",
       "      <td>{\"type\":\"CIMLineSymbol\",\"symbolLayers\":[{\"type...</td>\n",
       "      <td>1788</td>\n",
       "    </tr>\n",
       "    <tr>\n",
       "      <th>3</th>\n",
       "      <td>1789</td>\n",
       "      <td>4</td>\n",
       "      <td>1.1 - Contacts</td>\n",
       "      <td>01.01.04</td>\n",
       "      <td>Contact—Identity or existence questionable, lo...</td>\n",
       "      <td>{\"type\":\"CIMLineSymbol\",\"symbolLayers\":[{\"type...</td>\n",
       "      <td>1789</td>\n",
       "    </tr>\n",
       "    <tr>\n",
       "      <th>4</th>\n",
       "      <td>1790</td>\n",
       "      <td>4</td>\n",
       "      <td>1.1 - Contacts</td>\n",
       "      <td>01.01.05</td>\n",
       "      <td>Contact—Identity and existence certain, locati...</td>\n",
       "      <td>{\"type\":\"CIMLineSymbol\",\"symbolLayers\":[{\"type...</td>\n",
       "      <td>1790</td>\n",
       "    </tr>\n",
       "  </tbody>\n",
       "</table>\n",
       "</div>"
      ],
      "text/plain": [
       "     ID  CLASS  ...                                            CONTENT   KEY\n",
       "0  1786      4  ...  {\"type\":\"CIMLineSymbol\",\"symbolLayers\":[{\"type...  1786\n",
       "1  1787      4  ...  {\"type\":\"CIMLineSymbol\",\"symbolLayers\":[{\"type...  1787\n",
       "2  1788      4  ...  {\"type\":\"CIMLineSymbol\",\"symbolLayers\":[{\"type...  1788\n",
       "3  1789      4  ...  {\"type\":\"CIMLineSymbol\",\"symbolLayers\":[{\"type...  1789\n",
       "4  1790      4  ...  {\"type\":\"CIMLineSymbol\",\"symbolLayers\":[{\"type...  1790\n",
       "\n",
       "[5 rows x 7 columns]"
      ]
     },
     "execution_count": 10,
     "metadata": {},
     "output_type": "execute_result"
    }
   ],
   "source": [
    "# find the path to the style file holding your symbols and save it to the variable stylx below\n",
    "# when writing this Notebook, I used the FGDC.stylx file available from the GeMS NGMDB page\n",
    "#   https://ngmdb.usgs.gov/Info/standards/GeMS/#reso\n",
    "stylx = r\"path\\to\\stylx\\file\"\n",
    "\n",
    "# use sqlite3 to make a connection\n",
    "con = sqlite3.connect(stylx)\n",
    "\n",
    "# create an SQL query that pandas will use to pull some info from the table\n",
    "# and display just the first few rows of data\n",
    "query = \"SELECT * FROM Items\"\n",
    "df_items = pd.read_sql_query(query, con)\n",
    "df_items.head()"
   ]
  },
  {
   "cell_type": "markdown",
   "metadata": {},
   "source": [
    "Some of the data in this table should be familiar. `Category` is a class of symbols. `Name` is the name of the symbol that would match values in `Symbol` in the DMU if you are using the [Match Layer Symbology to A Style tool](https://pro.arcgis.com/en/pro-app/3.3/tool-reference/data-management/match-layer-symbology-to-a-style.htm) and `Tags` has a longer description of the symbol. Not all style files will be this informative but before you proceed, you will need to discover the `Category` value for the polygon fills you are interested in."
   ]
  },
  {
   "cell_type": "markdown",
   "metadata": {},
   "source": [
    "### 1.2 Find the CATEGORY with your polygon fill symbols"
   ]
  },
  {
   "cell_type": "code",
   "execution_count": 4,
   "metadata": {},
   "outputs": [
    {
     "name": "stdout",
     "output_type": "stream",
     "text": [
      "('1.1 - Contacts',)\n",
      "('1.2 - Key beds',)\n",
      "('1.3 - Dikes',)\n",
      "('2.1 - Faults (generic; vertical, subvertical, or high-angle; or unknown or unspecified orientation or sense of slip)',)\n",
      "('2.2 - Normal faults',)\n",
      "('2.3 - Low-angle faults (unknown or unspecified sense of slip)',)\n",
      "('2.4 - Reverse faults',)\n",
      "('2.5 - Rotational or scissor faults',)\n",
      "('2.8 - Thrust faults',)\n",
      "('2.9 - Overturned thrust faults',)\n",
      "('2.10 - Detachment faults (sense of slip unspecified)',)\n",
      "('2.12 - Fault scarps',)\n",
      "('2.13 - Quaternary faulting',)\n",
      "('3.1 - Boundaries located by geophysical methods',)\n",
      "('3.2 - Faults located by geophysical methods',)\n",
      "('3.3 - Geophysical survey lines and stations',)\n",
      "('4.1 - Lineaments',)\n",
      "('4.2 - Joints',)\n",
      "('5.1 - Anticlines',)\n",
      "('5.2 - Antiforms',)\n",
      "('5.3 - Asymmetric, overturned, and inverted anticlines',)\n",
      "('5.4 - Antiformal sheath folds',)\n",
      "('5.5 - Synclines',)\n",
      "('5.6 - Synforms',)\n",
      "('5.7 - Asymmetric, overturned, and inverted synclines',)\n",
      "('5.8 - Synformal sheath folds',)\n",
      "('5.9 - Monoclines',)\n",
      "('11.0 - Geophysical and structure contours',)\n",
      "('12.0 - Fluvial and alluvial features',)\n",
      "('13.0 - Glacial and glaciofluvial features',)\n",
      "('14.0 - Periglacial features',)\n",
      "('15.0 - Lacustrine and marine features',)\n",
      "('16.0 - Eolian features',)\n",
      "('17.0 - Landslide and mass-wasting features',)\n",
      "('18.0 - Volcanic features',)\n",
      "('19.1 - Veins and mineralized areas; mineral resource areas; metamorphic facies boundary',)\n",
      "('19.2 - Areas of extensively disturbed ground; surface workings; subsurface workings projected to surface',)\n",
      "('19.3 - Mining and mineral exploration (at surface)',)\n",
      "('19.4 - Mines and subsurface workings',)\n",
      "('21.0 - Neotectonic and earthquake-hazard features',)\n",
      "('23.0 - Miscellaneous uplift and collapse features',)\n",
      "('31.0 - Miscellaneous map elements',)\n",
      "('2.14 - Shear zones; mylonite zones; fault-breccia zones',)\n",
      "('20.0 - Hazardous waste sites',)\n",
      "('22.0 - Plate-tectonic features',)\n",
      "('25.0 - Planetary geology features',)\n",
      "('30.2 - Drainage features',)\n",
      "('1.4 - Line-symbol decorations and notations for contacts, key beds, and dikes',)\n",
      "('2.11 - Line-symbol decorations and notations for faults',)\n",
      "('2.15 - Small, minor faults',)\n",
      "('4.3 - Small, minor joints',)\n",
      "('5.10 - Line-symbol decorations and notations for folds',)\n",
      "('5.11 - Small, minor folds',)\n",
      "('6.0 - Bedding',)\n",
      "('7.0 - Cleavage',)\n",
      "('8.1 - Generic foliation (origin not known or not specified)',)\n",
      "('8.2 - Primary foliation or layering (in igneous rocks)',)\n",
      "('8.3 - Secondary foliation (caused by metamorphism or tectonism)',)\n",
      "('9.0 - Lineation',)\n",
      "('19.5 - Oil and gas fields; wells drilled for hydrocarbon exploration or exploitation',)\n",
      "('26.5 - Geohydrologic contours',)\n",
      "('26.6 - Geohydrologic lines',)\n",
      "('28.0 - Transportation features',)\n",
      "('30.1 - Topographic, bathymetric, and glacier contours',)\n",
      "('30.3 - Miscellaneous togographic and hydrographic features',)\n",
      "('2.6 - Strike-slip faults',)\n",
      "('2.7 - Oblique-slip faults',)\n",
      "('24.0 - Terrestrial impact features',)\n",
      "('26.0 - Geohydrologic features',)\n",
      "('26.7 - Miscellaneous geohydrologic features',)\n",
      "('29.0 - Boundaries',)\n",
      "('32.0 - Geologic age symbol font (\"FGDCGeoAge\")',)\n",
      "('10.1 - Fossil locality',)\n",
      "('',)\n",
      "('37.1 - Sedimentary-rock lithologic patterns',)\n",
      "('37.2 - Metamorphic-rock, igneous-rock, and vein-matter lithologic patterns',)\n",
      "('100 - Surficial Patterns',)\n",
      "('200 - Sedimentary Patterns',)\n",
      "('300 - Igneous Patterns',)\n",
      "('400 - Miscellaneous and Metamorphic Patterns',)\n",
      "('500 - Glacial and Periglacial Patterns',)\n",
      "('CMYK Polygons',)\n",
      "('CMYK Colors',)\n",
      "('10.2 - Fossil symbols',)\n",
      "('26.1 - Water wells',)\n",
      "('26.2 - Springs',)\n",
      "('26.3 - Water gaging stations',)\n",
      "('26.4 - Quality-of-water sites',)\n",
      "('27.0 - Weather stations',)\n",
      "('CMYK Points',)\n"
     ]
    }
   ],
   "source": [
    "# create another query that will make a collection all distince values in Category\n",
    "query = \"SELECT DISTINCT category FROM ITEMS\"\n",
    "cursor = con.execute(query)\n",
    "for category in cursor:\n",
    "    print(category)"
   ]
  },
  {
   "cell_type": "markdown",
   "metadata": {},
   "source": [
    "With the FGDC Style, this list is long but down near the bottom is the category we want: `'CMYK Polygons'`"
   ]
  },
  {
   "cell_type": "markdown",
   "metadata": {},
   "source": [
    "<a id=\"onethree\"></a>"
   ]
  },
  {
   "cell_type": "markdown",
   "metadata": {},
   "source": [
    "### 1.3 Inspect the CONTENT of a symbol\n",
    "The symbol properties are stored in JSON in the field `CONTENT`. Take a look at a polygon fill symbol in the category you care about."
   ]
  },
  {
   "cell_type": "code",
   "execution_count": 11,
   "metadata": {},
   "outputs": [
    {
     "name": "stdout",
     "output_type": "stream",
     "text": [
      "{'angleAlignment': 'Map',\n",
      " 'symbolLayers': [﻿{'anchor3D': 'Center',\n",
      "                   'capStyle': 'Round',\n",
      "                   'color': {'type': 'CIMRGBColor', 'values': [0, 0, 0, 100]},\n",
      "                   'enable': True,\n",
      "                   'height3D': 1,\n",
      "                   'joinStyle': 'Round',\n",
      "                   'lineStyle3D': 'Strip',\n",
      "                   'miterLimit': 10,\n",
      "                   'type': 'CIMSolidStroke',\n",
      "                   'width': 0},\n",
      "                  {'color': {'type': 'CIMCMYKColor',\n",
      "                             'values': [0, 8, 0, 0, 100]},\n",
      "                   'enable': True,\n",
      "                   'type': 'CIMSolidFill'}],\n",
      " 'type': 'CIMPolygonSymbol'}\n"
     ]
    }
   ],
   "source": [
    "# create a query to pull the CONTENT for CATEGORY 'CMYK Polygons'\n",
    "# or the category with your polygon symbols from a different style\n",
    "query = \"SELECT name, content FROM ITEMS WHERE category = 'CMYK Polygons'\"\n",
    "cursor = con.execute(query)\n",
    "just_one = cursor.fetchone()\n",
    "name = just_one[0]\n",
    "symbol = json.loads(just_one[1])\n",
    "pprint(symbol)"
   ]
  },
  {
   "cell_type": "markdown",
   "metadata": {},
   "source": [
    "Symbol properties follow the schema of the [ArcGIS Cartographic Information Model](https://pro.arcgis.com/en/pro-app/latest/arcpy/mapping/python-cim-access.htm#:~:text=The%20CIM%20is%20the%20Esri%20Cartographic%20Information%20Model.,the%20CIM%20as%20limited%20to%20only%20cartographic%20settings.), which I don't understand well. Not all polygon symbols, even the ones in the FGDC Style have the same number of `symbolLayers`, for some reason. By cross-referencing the JSON with the FGDC CMYK Color Chart, I confirmed that the JSON object we want is the one with `type` = `CIMSolidFill` where the `values` of `color` are the values we are concerned with. Regardless of the number of `symbolLayers`, we should be able to find the correct object by searching for the correct `type`.\n",
    "\n",
    "Note also the `type` value of the `color` object. In the case of the FGDC Style, the colors have been saved as `CIMCMYKColor` but there are a number of [other classes](https://pro.arcgis.com/en/pro-app/latest/sdk/api-reference/topic815.html) corresponding to common color spaces. It may be possible that a style category has color values in more than one color space so we will collect those as well so that we apply the correct conversion to RGB."
   ]
  },
  {
   "cell_type": "markdown",
   "metadata": {},
   "source": [
    "### 1.4 Make python dictionary of symbol names, color space, and colors\n",
    "In this step we will build a python dictionary of all symbol names in the style and the converted color values. With this done, to retrieve the values for writing to `AreaFillRGB`, which is done in Step 3, it's a simple matter of looking the `Symbol` name up in the dictionary, as opposed to building a new database query for each `Symbol` name. With the dictionary built, you also have the option of working off that the next time you need to find values in the style or writing the whole thing to a text file for easier reference in the future. With the sizes of the tables and databases we are working with here, the difference in execution time between these two methods will be negligible. "
   ]
  },
  {
   "cell_type": "code",
   "execution_count": 51,
   "metadata": {},
   "outputs": [
    {
     "name": "stdout",
     "output_type": "stream",
     "text": [
      "1 ('CIMCMYKColor', [0, 8, 0, 0, 100])\n",
      "10 ('CIMCMYKColor', [0, 0, 8, 0, 100])\n",
      "100 ('CIMCMYKColor', [8, 0, 0, 0, 100])\n",
      "101 ('CIMCMYKColor', [8, 8, 0, 0, 100])\n",
      "102 ('CIMCMYKColor', [8, 13, 0, 0, 100])\n"
     ]
    }
   ],
   "source": [
    "# start with an empty dictionary\n",
    "name_color = {}\n",
    "\n",
    "# build a query getting the name and content for each row\n",
    "# remember to change the category name below if you have to\n",
    "query = \"SELECT name, content FROM ITEMS WHERE category = 'CMYK Polygons'\"\n",
    "cursor = con.execute(query)\n",
    "\n",
    "# iterate through the cursor and add entries to the dictionary\n",
    "# getting the color values requires converting the string in Content to JSON\n",
    "# and then selecting the correct object based on 'type': 'CIMSolidFill'\n",
    "for row in (cursor):\n",
    "    for sym_lyr in json.loads(row[1])[\"symbolLayers\"]:\n",
    "        if sym_lyr[\"type\"] == \"CIMSolidFill\":\n",
    "            color_space = sym_lyr[\"color\"][\"type\"]\n",
    "            color_values = sym_lyr[\"color\"][\"values\"]\n",
    "            name_color[row[0]] = (color_space, color_values)\n",
    "\n",
    "# print a few entries in the dictionary to see that it looks right\n",
    "for entry in list(name_color)[:5]:\n",
    "    print(entry, name_color[entry])"
   ]
  },
  {
   "cell_type": "markdown",
   "metadata": {},
   "source": [
    "### 1.5 Convert to RGB\n",
    "Of course, these values are in CMYK and the field is called `AreaFillRGB` so we need to convert them (I have always thought that this field should, in fact, be color space-agnostic but here we are). Because we might be collecting multiple color spaces, we need multiple conversions. In the function `color_convert` above there are methods to convert 6 out of the 7 possible color spaces you can work with in ArcGIS Pro. Note that by default it returns whole integer values of R ,G, and B. If you want to allow decimal places, specify a value `n` for what place to round to. Finally, `color_convert` returns a string of comma-delimited values because that is the format for writing to `AreaFillRGB`."
   ]
  },
  {
   "cell_type": "code",
   "execution_count": null,
   "metadata": {},
   "outputs": [
    {
     "name": "stdout",
     "output_type": "stream",
     "text": [
      "1: 255, 234, 255\n",
      "10: 255, 255, 234\n",
      "100: 234, 255, 255\n",
      "101: 234, 234, 255\n",
      "102: 234, 221, 255\n",
      "103: 234, 204, 255\n",
      "104: 234, 178, 255\n",
      "105: 234, 153, 255\n",
      "106: 234, 127, 255\n",
      "107: 234, 102, 255\n"
     ]
    }
   ],
   "source": [
    "# try out the cmyk_to_rgb function to find out what RGB values you want to save\n",
    "# whole integers are specified by using 'int' for n, the last argument\n",
    "# just print out 10 entries using take()\n",
    "for key, value in take(10, name_color.items()):\n",
    "    print(f\"{key}: {color_convert(value[0], value[1], 'int')}\")"
   ]
  },
  {
   "cell_type": "code",
   "execution_count": 53,
   "metadata": {},
   "outputs": [
    {
     "name": "stdout",
     "output_type": "stream",
     "text": [
      "1: 255.0, 234.6, 255.0\n",
      "10: 255.0, 255.0, 234.6\n",
      "100: 234.6, 255.0, 255.0\n",
      "101: 234.6, 234.6, 255.0\n",
      "102: 234.6, 221.85, 255.0\n",
      "103: 234.6, 204.0, 255.0\n",
      "104: 234.6, 178.5, 255.0\n",
      "105: 234.6, 153.0, 255.0\n",
      "106: 234.6, 127.5, 255.0\n",
      "107: 234.6, 102.0, 255.0\n"
     ]
    }
   ],
   "source": [
    "# rounded to n decimal places (the number might have fewer if there are only zeros after the n you have chosen)\n",
    "for key, value in take(10, name_color.items()):\n",
    "    print(f\"{key}: {color_convert(value[0], value[1], 2)}\")"
   ]
  },
  {
   "cell_type": "code",
   "execution_count": 54,
   "metadata": {},
   "outputs": [
    {
     "name": "stdout",
     "output_type": "stream",
     "text": [
      "1: 255, 234, 255\n",
      "10: 255, 255, 234\n",
      "100: 234, 255, 255\n",
      "101: 234, 234, 255\n",
      "102: 234, 221, 255\n",
      "103: 234, 204, 255\n",
      "104: 234, 178, 255\n",
      "105: 234, 153, 255\n",
      "106: 234, 127, 255\n",
      "107: 234, 102, 255\n"
     ]
    }
   ],
   "source": [
    "# once you have decided on the number of decimal places or if you just want whole integer values,\n",
    "# re-build the dictionary with the RGB values\n",
    "# we'll do it in one line with a dictionary comprehension\n",
    "new_dict = {k: color_convert(v[0], v[1], 'int') for k,v in name_color.items()}\n",
    "\n",
    "# and take a look\n",
    "for k, v in take(10, new_dict.items()):\n",
    "    print(f\"{k}: {v}\")"
   ]
  },
  {
   "cell_type": "markdown",
   "metadata": {},
   "source": [
    "Now that you have the dictionary built, go to Step 3"
   ]
  },
  {
   "cell_type": "markdown",
   "metadata": {},
   "source": [
    "<a id=\"two\"></a>"
   ]
  },
  {
   "cell_type": "markdown",
   "metadata": {},
   "source": [
    "## 2. Use a layer renderer to get symbol values\n",
    "Start here if your MapUnit polygons are symbolized in a layer in a map. Either you are not using a style file or you have already matched symbols to a style.\n",
    "\n",
    "To prepare for this step, set up a map layer called \"MapUnitPolys\" and symbolize it using either a Unique Values renderer or using the Match Layer Symbology To A Style tool. Note that your choice for the field containing the unique values, that is, `MapUnit` or `Symbol`, will be the field you use in Step 3 to select rows in the DMU table for updating."
   ]
  },
  {
   "cell_type": "markdown",
   "metadata": {},
   "source": [
    "### 2.1 Drill down through the layer's CIM definition\n",
    "The symbology that has been used for a layer can be accessed through the CIM [(Cartographic Information Model)](https://pro.arcgis.com/en/pro-app/latest/arcpy/mapping/python-cim-access.htm#:~:text=The%20CIM%20is%20the%20Esri%20Cartographic%20Information%20Model.,the%20CIM%20as%20limited%20to%20only%20cartographic%20settings.) definition for the layer which allows for dot notation (e.g., `object.method().property`) access of attributes and their values. When a .lyrx layer file is created, the content is the JSON representation of the CIM and nested a few levels down is the same JSON representation of polygon symbols that we explored in style files in [Step 1.3](#onethree). \n",
    "\n",
    "Because of the various levels of nesting I think are possible with where those symbol properties end up, I tried to write code that would find a list of named JSON objects regardless of where they were in the file, but was not successful. I tried a few examples I found for recursively searching JSON objects, but none of them worked and I was losing too much time trying to figure out why.\n",
    "\n",
    "With the code below, although the dot-notation paths are hard-coded, I *think* they will always exist for any polygon symbol. If they fail, you will have to inspect the .lyrx file and try to figure out what the notation should be to drill down to the right level and extract the information.\n",
    "\n",
    "Note that when a CIM definition is retrieved by arcpy, all JSON objects are instantiated as the CIM `type` value that is shown in the array. That is, all arrays become collections of CIM objects, not simply JSON arrays or python dictionaries. In dot notation access, there is no .`type` attribute for any of those objects, as there are for the other JSON keys, because the object being interrogated IS the type. Very handy for copying and modifying symbols programmatically, but to discover what `type` the object is, the only solution I found was to inspect the `__class__` attribute which is available for all python objects regardless of how they were created. "
   ]
  },
  {
   "cell_type": "code",
   "execution_count": null,
   "metadata": {},
   "outputs": [
    {
     "name": "stdout",
     "output_type": "stream",
     "text": [
      "290: ('CIMCMYKColor', [13, 0, 100, 0, 100])\n",
      "399: ('CIMCMYKColor', [20, 100, 100, 0, 100])\n",
      "609: ('CIMCMYKColor', [50, 100, 0, 0, 100])\n",
      "900: ('CIMCMYKColor', [100, 0, 0, 0, 100])\n",
      "200: ('CIMCMYKColor', [13, 0, 0, 0, 100])\n"
     ]
    }
   ],
   "source": [
    "# first get the current project\n",
    "p = arcpy.mp.ArcGISProject('current')\n",
    "\n",
    "# get a pointer to the MapUnitPolys layer\n",
    "# change the name of the map wildcard below for listMaps() to the map that has the MapUnitPolys layer\n",
    "m = p.listMaps('Map1')[0]\n",
    "l = m.listLayers('MapUnitPolys')[0]\n",
    "\n",
    "# get the CIM definition of the layer\n",
    "l_cim = l.getDefinition(\"v3\")\n",
    "\n",
    "# create an emtpy dictionary to save values into as we iterate\n",
    "# this will take the same form as the one built in step 1.4\n",
    "# name of symbol: (color space, color values)\n",
    "name_color = {}\n",
    "\n",
    "# start by iterating through the groups. I am not quite sure what these \n",
    "# would be in a layer renderer\n",
    "groups = l_cim.renderer.groups\n",
    "for group in groups:\n",
    "    # in each group, there is a list of \"classes\"\n",
    "    for sym_class in group.classes:\n",
    "        name = sym_class.label\n",
    "        symbol_layers = sym_class.symbol.symbol.symbolLayers\n",
    "        # for reference with a JSON file of the CIM definition:\n",
    "        # at this point, the dot notation to this array is\n",
    "        # renderer.groups[i].classes[i].symbol.symbol.symbolLayers\n",
    "        for symbol_layer in symbol_layers:\n",
    "            if get_class(symbol_layer.__class__) == \"CIMSolidFill\":\n",
    "                color_space = get_class(symbol_layer.color.__class__)\n",
    "                color_values = symbol_layer.color.values\n",
    "                name_color[name] = (color_space, color_values)\n",
    "\n",
    "# look at the dictionary. My test layer only had 6 map unit polygons\n",
    "# and they were labelled by the FGDC CMYK color symbol name\n",
    "for k,v in name_color.items():\n",
    "    print(f\"{k}: {v}\")"
   ]
  },
  {
   "cell_type": "markdown",
   "metadata": {},
   "source": [
    "### 2.2 Convert to RGB\n",
    "As with Step , regardless of the color space the symbol was originally stored in, convert to RGB"
   ]
  },
  {
   "cell_type": "code",
   "execution_count": 41,
   "metadata": {},
   "outputs": [
    {
     "name": "stdout",
     "output_type": "stream",
     "text": [
      "290: 221.85, 255.0, 0.0\n",
      "399: 204.0, 0.0, 0.0\n",
      "609: 127.5, 0.0, 255.0\n",
      "900: 0.0, 255.0, 255.0\n",
      "200: 221.85, 255.0, 255.0\n"
     ]
    }
   ],
   "source": [
    "# now re-build the dictionary with the RGB values\n",
    "# we'll do it in one line with a dictionary comprehension\n",
    "# note that we are re-writing the content of the name_color dictionary. \n",
    "# To run this cell again, first go through step 2.1 again.\n",
    "new_dict = {k: color_convert(v[0], v[1], 2) for k,v in name_color.items()}\n",
    "\n",
    "# print the entries out\n",
    "for k,v in new_dict.items():\n",
    "    print(f\"{k}: {v}\")"
   ]
  },
  {
   "cell_type": "markdown",
   "metadata": {},
   "source": [
    "## 3. Write values to the DMU table\n",
    "Now, we just need to iterate through the `MapUnit` or `Symbol` values (depending on how you established unique colors) in the DMU and write the values in the dictionary to the `AreaFillRGB` field. To minimize the number of nested for and cursor loops, first collect a python list of key values"
   ]
  },
  {
   "cell_type": "markdown",
   "metadata": {},
   "source": [
    "### 3.1 Check that all Symbol or MapUnit values have an entry in name_color"
   ]
  },
  {
   "cell_type": "code",
   "execution_count": null,
   "metadata": {},
   "outputs": [],
   "source": [
    "# set the variable dmu below to the full catalog path to the DMU table\n",
    "# drag and drop from the Catalog window\n",
    "dmu = r\"path\\to\\my_gems.gdb\\DescriptionOfMapUnits\"\n",
    "\n",
    "# Are MapUnitPolys symbolized on Symbol or MapUnit?\n",
    "# set the variable key_field below appropriately. Comment out the line you don't need.\n",
    "key_field = \"Symbol\"\n",
    "# key_field = \"MapUnit\"\n",
    "\n",
    "# use a list comprehension with a SearchCursor to get the values in that field\n",
    "symbol_names = [row[0] for row in arcpy.da.SearchCursor(dmu, key_field) if not row[0] == None]\n",
    "        \n",
    "# check that all Symbol or MapUnit values are in the name_color dictionary\n",
    "for symbol_name in symbol_names:\n",
    "    if not symbol_name in name_color.keys():\n",
    "        print(f\"The value {symbol_name} from field {key_field} is not in the dictionary\")\n",
    "\n",
    "# fix any problems and come back to this step until nothing prints out"
   ]
  },
  {
   "cell_type": "markdown",
   "metadata": {},
   "source": [
    "### 3.1 Write the RGB color values from name_color to the appropriate AreaFillRGB"
   ]
  },
  {
   "cell_type": "code",
   "execution_count": 44,
   "metadata": {},
   "outputs": [],
   "source": [
    "# iterate through the symbol names in the name_color dictionary, and use an UpdateCursor to \n",
    "# write the value to AreaFillRGB in the DMU\n",
    "for symbol_name in symbol_names:\n",
    "    # use the appropriate where clause below to query either Symbol or MapUnit\n",
    "    # comment out the other one\n",
    "    where = f\"Symbol = '{symbol_name}'\"\n",
    "    # where = f\"MapUnit = '{symbol_name}'\"\n",
    "\n",
    "    with arcpy.da.UpdateCursor(dmu, [key_field, \"AreaFillRGB\"], where) as cursor:\n",
    "        for row in cursor:\n",
    "            row[1] = new_dict[symbol_name]\n",
    "            cursor.updateRow(row)"
   ]
  },
  {
   "cell_type": "markdown",
   "metadata": {},
   "source": [
    "### 3.3 Inspect the table\n",
    "Use a SearchCursor on DescriptionOfMapUnits to check that the values were written correctly."
   ]
  },
  {
   "cell_type": "code",
   "execution_count": 47,
   "metadata": {},
   "outputs": [
    {
     "name": "stdout",
     "output_type": "stream",
     "text": [
      "None None None\n",
      "Da 290 221.85, 255.0, 0.0\n",
      "Dt 399 204.0, 0.0, 0.0\n",
      "Ddr 609 127.5, 0.0, 255.0\n",
      "Ddr 900 0.0, 255.0, 255.0\n",
      "Swlc 200 221.85, 255.0, 255.0\n"
     ]
    }
   ],
   "source": [
    "fields = [\"MapUnit\", \"Symbol\", \"AreaFillRGB\"]\n",
    "with arcpy.da.SearchCursor(dmu, fields) as cursor:\n",
    "    for row in cursor:\n",
    "        print(row[0], row[1], row[2])"
   ]
  }
 ],
 "metadata": {
  "kernelspec": {
   "display_name": "ArcGISPro",
   "language": "Python",
   "name": "python3"
  },
  "language_info": {
   "file_extension": ".py",
   "name": "python",
   "version": "3"
  }
 },
 "nbformat": 4,
 "nbformat_minor": 2
}
