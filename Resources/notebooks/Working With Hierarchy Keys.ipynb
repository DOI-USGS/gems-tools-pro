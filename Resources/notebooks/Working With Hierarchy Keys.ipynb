{
 "cells": [
  {
   "cell_type": "markdown",
   "metadata": {},
   "source": [
    "## Working with hierarchy keys\n",
    "\n",
    "\n",
    "A workflow and some code snippets to work with hierarchy key values in a GeMS DMU table.\n",
    "For those not familiar with Jupyter Notebooks, perhaps the easiest way to use this notebook is to open it ArcGIS Pro.  \n",
    "Navigate up or down through the cells with the up/down arrow keys on your keyboard or click in the cell to which you want focus changed.  \n",
    "For markdown cells you need to press Enter on your keyboard to enter edit mode. For python cells, just click to change focus and start writing.  \n",
    "To run the code in a python cell or save editing in a markdown cell, press Shift-Enter.  \n",
    "There are four variables you need to edit:  \n",
    "1. the path to a text file saved from Word; chosen through a file browsing dialog.\n",
    "2. the path to a DescriptionOfMapUnits table in a GDB. It can be empty, but it needs to exist. Get this path by activating the Map tab, browsing to and selecting the table in the Catalog pane, and then clicking 'Copy Path' from the Clipboard section of the Map menu ribbon.\n",
    "3. the names of the fields that will be updated in your DMU table.\n",
    "4. a path to write a text file to for importing into Word  \n",
    "\n",
    "Look for the comments that begin ``# EDIT THIS VARIABLE...``."
   ]
  },
  {
   "cell_type": "code",
   "execution_count": null,
   "metadata": {},
   "outputs": [],
   "source": [
    "import arcpy"
   ]
  },
  {
   "cell_type": "code",
   "execution_count": null,
   "metadata": {},
   "outputs": [],
   "source": [
    "def dir_dialog():\n",
    "    # open a file dialog to choose a .gdb file, which is reported as a path to a file\n",
    "    from tkinter import Tk\n",
    "    from tkinter import filedialog\n",
    "    Tk().withdraw() # we don't want a full GUI, so keep the root window from appearing\n",
    "    dir_path = filedialog.askopenfilename() # show an \"Open\" dialog box and return the path to the selected file\n",
    "\n",
    "    return dir_path"
   ]
  },
  {
   "attachments": {
    "Word_outline_numbering_style.png": {
     "image/png": "[encoded data removed]"
    }
   },
   "cell_type": "markdown",
   "metadata": {},
   "source": [
    "### 1. Word to GDB table\n",
    "1. In MS Word, write a few major heading divisions of the DMU, one line per heading\n",
    "2. Select everything\n",
    "2. On the Home tab of the main ribbon, go the Paragraph section and click the drop-down for Multilevel List, and from the List Library select the style that reads: \"1 Heading 1, 1.1 Heading 2, 1.1.1 Heading 3\"  \n",
    "\n",
    "![Word_outline_numbering_style.png](attachment:Word_outline_numbering_style.png)\n",
    "\n",
    "3. Go to the View tab of the main ribbon, go the Views section (far left), and select Outline.\n",
    "4. Finish your list of map units. Add a pipe character, ```|```, right after the outline number and between all values that are to be inserted into different fields. Be sure to enter your values consistently, eg., if you are only entering three of four possible attributes for a particular line, be sure to include two pipe characters with nothing in between for the empty attribute. Promote, demote, indent, and dedent each line as necessary to display the stratigraphic hierarchy. The numbers in the outline will *usually* get updated automatically as you expect, but it can be finicky. Try deleting a line that is not working and going back to the parent to start again.  \n",
    "5. For each unit, after the number, write the unique MapUnit value (usually the abbreviation or label) and the Name or Fullname as you like. There might not be much benefit to adding additional attributes at this time. Whether you copy/paste/write values into the Word document or the DMU table once you have it built might not matter.\n",
    "5. Save the word document as a text file."
   ]
  },
  {
   "cell_type": "markdown",
   "metadata": {},
   "source": [
    "Select the text file to save the path in a variable and write the path"
   ]
  },
  {
   "cell_type": "code",
   "execution_count": null,
   "metadata": {},
   "outputs": [],
   "source": [
    "# EDIT THIS VARIABLE BY SELECTING THE FILE IN THE FILE DIALOG\n",
    "text_file_from_word = dir_dialog()\n",
    "text_file_from_word"
   ]
  },
  {
   "cell_type": "code",
   "execution_count": null,
   "metadata": {},
   "outputs": [],
   "source": [
    "# we don't need a list of lines for right now; we'll use it in the next step, but it's easy to get here.\n",
    "lines = []\n",
    "with open(text_file_from_word, mode='r', encoding='utf-8-sig') as file:\n",
    "    for line in file.readlines():\n",
    "        lines.append(line)\n",
    "        print(line)"
   ]
  },
  {
   "cell_type": "markdown",
   "metadata": {},
   "source": [
    "### 2. Prepare the text file  \n",
    "The single integer, non-zero-padded numbers we get from the outline view in Word will not sort properly in a database table. While it is possible to create a multilevel list numbering scheme in Word that uses zero-padded numbers and export that list to a text file, it requires either laboriously setting up the style in Word, or passing around a template Word document that already has the style in it. Also, I have not found a way to take zero-padded numbers from a database table and get them into Word as a multilevel numbered list, even if the Word document has the original style in it. So, we'll scrap that idea and just use some code to either add or remove padding zeros as necessary depending on the direction of the transcription."
   ]
  },
  {
   "cell_type": "markdown",
   "metadata": {},
   "source": [
    "#### Zero-padding\n",
    "In the next step, the single integer parts of the hierarchy key value will be broken apart and then padded with zeros to 3 spaces. Also, each line will be re-written so that the mapunit is first, followed by the hierarchykey and whatever other fields were exported from Word. This is done so that in step 2.2 it will be easier to build a dictionary of the values that will be used with the UpdateCursor.  \n",
    "\n",
    "**This will overwrite the text that you exported from Word. Make a copy if you are squeamish** (although you can always go back to Word to save the file again)"
   ]
  },
  {
   "cell_type": "code",
   "execution_count": null,
   "metadata": {},
   "outputs": [],
   "source": [
    "new_lines = []\n",
    "with open(text_file_from_word, mode='w', encoding='utf-8-sig') as file:\n",
    "    for line in lines:\n",
    "        vals = [val.strip() for val in line.split(\"|\")]\n",
    "        mapunit = vals.pop(1)\n",
    "        if \".\" in vals[0] or vals[0].isnumeric():\n",
    "            padded = [str(i).zfill(3) for i in vals[0].split('.')]\n",
    "            vals[0] = \"-\".join(padded)\n",
    "        vals_str = \"|\".join(vals)\n",
    "        new_lines.append(f\"{mapunit}|{vals_str}\")\n",
    "    file.write(\"\\n\".join(new_lines))\n",
    "    \n",
    "with open(text_file_from_word, mode='r', encoding='utf-8-sig') as file:\n",
    "    print(file.read())"
   ]
  },
  {
   "cell_type": "markdown",
   "metadata": {},
   "source": [
    "### 2.2 Create a python dictionary of the contents of the text file\n",
    "Read the text file into a python dictionary that consists of entries  \n",
    "``{mapunit: [mapunit, hierarchykey, name, field_n...]}``  \n",
    "This will be useful when updating or inserting rows in the DMU in the GDB.  "
   ]
  },
  {
   "cell_type": "code",
   "execution_count": null,
   "metadata": {},
   "outputs": [],
   "source": [
    "update_dict = {}\n",
    "with open(text_file_from_word, mode='r', encoding='utf-8-sig') as file:\n",
    "    lines = file.readlines()\n",
    "    \n",
    "    # first line has the names of the fields in the order they will be called for the cursors\n",
    "    #fields_for_cursor = lines[0].strip().split(\"|\")\n",
    "    \n",
    "    # the rest of the lines have the values\n",
    "    for line in lines:\n",
    "        vals = [v.strip() for v in line.split(\"|\")]\n",
    "        # first item in the list will be the mapunit\n",
    "        # that will be our key and the value will be whole list of values\n",
    "        update_dict[vals[0]] = vals\n",
    "\n",
    "for k,v in update_dict.items():\n",
    "    print(f\"{k}: {v}\")"
   ]
  },
  {
   "cell_type": "markdown",
   "metadata": {},
   "source": [
    "### 2.3 Update the DMU\n",
    "Open an UpdateCursor on the DMU.  \n",
    "Look up each MapUnit in the update dictionary from Step 2.2  \n",
    "If the MapUnit exists as a key in the udpate dictionary, update that row. \n",
    "If the MapUnit can't be found, that means it is a new unit; added when the LMU was edited in Word. Delete that dictionary entry from a copy of the update dictionary and the remainders which will be used with an InsertCursor. It's tricky having two cursors open on a data source at the same time, so we'll run updates first and then inserts. "
   ]
  },
  {
   "cell_type": "code",
   "execution_count": null,
   "metadata": {},
   "outputs": [],
   "source": [
    "# EDIT THIS VARIABLE AS NEEDED\n",
    "gems_dmu = r\"C:\\_AAA\\tools\\materialized-paths\\dmu\\Default.gdb\\DescriptionOfMapUnits\""
   ]
  },
  {
   "cell_type": "code",
   "execution_count": null,
   "metadata": {},
   "outputs": [],
   "source": [
    "# DO NOT RUN THIS COMMAND UNLESS YOU NEED TO EMPTY THE DMU TABLE.\n",
    "# I only used it during development and you may not need to use it.\n",
    "\n",
    "arcpy.management.TruncateTable(gems_dmu)"
   ]
  },
  {
   "cell_type": "markdown",
   "metadata": {},
   "source": [
    "Make a list variable of the fields that will be updated in the order of the values in the text file. The first two field names should always be ```MapUnit, HierarchyKey``` followed by whatever else you have decided to include, eg ```Name```."
   ]
  },
  {
   "cell_type": "code",
   "execution_count": null,
   "metadata": {},
   "outputs": [],
   "source": [
    "# EDIT THIS VARIABLE AS NEEDED\n",
    "fields_for_cursor = ['MapUnit', 'HierarchyKey', 'Name']"
   ]
  },
  {
   "cell_type": "markdown",
   "metadata": {},
   "source": [
    "The code below is where new rows are inserted and old rows are updated. If you have your DMU table open in ArcGIS Pro as a table view, you might not see these updates when you click on the tab. You will often have to close the table view tab and re-open the table from the Contents pane to see the changes.  \n",
    "\n",
    "**You will not be able to undo the changes. Make a copy if the table is hard to recreate.**"
   ]
  },
  {
   "cell_type": "code",
   "execution_count": null,
   "metadata": {},
   "outputs": [],
   "source": [
    "insert_dict = update_dict.copy()\n",
    "# open an Update Cursor and look for mapunits as keys in update_dict\n",
    "with arcpy.da.UpdateCursor(gems_dmu, fields_for_cursor) as cursor:\n",
    "    for row in cursor:\n",
    "        if row[0] in update_dict:\n",
    "            row = update_dict[row[0]]\n",
    "            cursor.updateRow(row)\n",
    "            del insert_dict[row[0]]\n",
    "\n",
    "# if any entries remain in insert_dict, they need to be inserted with an Insert Cursor\n",
    "if insert_dict:\n",
    "    with arcpy.da.InsertCursor(gems_dmu, fields_for_cursor) as cursor:\n",
    "        for k,v in insert_dict.items():\n",
    "            print(k, v, len(v))\n",
    "            cursor.insertRow(v)"
   ]
  },
  {
   "cell_type": "markdown",
   "metadata": {},
   "source": [
    "### 3 GDB to text interchange file\n",
    "To go back to Word, we need to make a text file from the DMU table that will be suitable for applying the multilevel numbering list style to it. This means  \n",
    "1. putting the hierarchy key in the front of each row\n",
    "2. un-zero-padding the hierarchy key numbers\n",
    "3. adding pipe characters between field values (only added for convenience)"
   ]
  },
  {
   "cell_type": "code",
   "execution_count": null,
   "metadata": {},
   "outputs": [],
   "source": [
    "# EDIT THIS VARIABLE AS NEEDED\n",
    "# THE TEXT FILE DOES NOT NEED TO EXSIST\n",
    "lmu_text = r\"C:\\_AAA\\tools\\materialized-paths\\demo\\lum_text.txt\""
   ]
  },
  {
   "cell_type": "code",
   "execution_count": null,
   "metadata": {},
   "outputs": [],
   "source": [
    "fields_for_export = ['HierarchyKey', 'MapUnit', 'Name']\n",
    "lmu_list = []\n",
    "with arcpy.da.SearchCursor(gems_dmu, fields_for_export, sql_clause=(None,'ORDER BY HierarchyKey')) as cursor:\n",
    "    for row in cursor:\n",
    "        hkey = row[0]\n",
    "        hkey_list = [elem.lstrip('0') for elem in hkey.split('-')]\n",
    "        unpad = '.'.join(hkey_list)\n",
    "        val_string = f\"{unpad} | {' | '.join(row[1:])}\"\n",
    "        lmu_list.append(val_string)\n",
    "        \n",
    "with open(lmu_text, 'w') as file:\n",
    "    file.write('\\n'.join(lmu_list))"
   ]
  },
  {
   "cell_type": "markdown",
   "metadata": {},
   "source": [
    "### 4 Open in Word  \n",
    "1. open that text file in word\n",
    "2. select everything\n",
    "3. go to Home > Paragraph section and select the multilevel list numbering style we used in step 1\n",
    "4. switch to outline view"
   ]
  }
 ],
 "metadata": {
  "kernelspec": {
   "display_name": "ArcGISPro",
   "language": "Python",
   "name": "python3"
  },
  "language_info": {
   "file_extension": ".py",
   "name": "python",
   "version": "3"
  }
 },
 "nbformat": 4,
 "nbformat_minor": 2
}
