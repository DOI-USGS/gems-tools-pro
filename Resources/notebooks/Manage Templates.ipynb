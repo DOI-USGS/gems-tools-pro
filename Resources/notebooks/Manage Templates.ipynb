{
 "cells": [
  {
   "cell_type": "markdown",
   "metadata": {},
   "source": [
    "## Batch update multiple XML files"
   ]
  },
  {
   "cell_type": "markdown",
   "metadata": {},
   "source": [
    "This is a Jupyter Notebook to batch process the GeMS metadata templates for use with the metadata tools in the 3.0 version of the GeMS Tools toolbox. For templates for your project, copy the folder of GeMS-default templates, `gems-atbx\\resources\\metadata\\templates`, and then proceed through this notebook adding project-specific language as necessary. Note that one step below WILL re-write the template files in place. All others modify in-memory copies before writing them to an output directory.\n",
    "\n",
    "Many operations here make use of some XML functions written for the USGS Metadata Wizard which are included in the file `xml_utils.py`. If you have the GeMS Toolbox, this file can be found in the `scripts` directory of the toolbox directory. You can also use the file that is included with the USGS Metadata Wizard if you have that installed. In either case, you need to append a path to `sys.path` before importing the file:\n",
    "\n",
    "1. Using the copy included with the GeMS Tools toolbox - browse to the directory with the toolbox and copy the path to the folder named `scripts`.\n",
    "\n",
    "2. Using the copy included with USGS Metadata Wizard - find the installation folder of the app (often `C:\\Users\\myusername\\MetadataWizard` but if not, you will have to search for it or inspect the properties of a shortcut). From there, copy the full path to `MetadataWizard\\fort-pymdwizard\\pymdwizard\\core`\n",
    "\n",
    "3. Save the path to the variable `scripts_dir` in the **Imports** section below. Note that if the path delimiter is just one backslash (`\\`), as would be the case when copying the path from the address bar in Windows Explorer, add an `r` in front of the quotes of the string (eg, `r\"C:\\GIS\\Toolboxes\\gems-tools-pro\"`). But if you drag-and-drop the path into the notebook from the Catalog pane in ArcGIS Pro, the backslashes are 'escaped', that is, doubled, and the `r` is unnecessary. [More about backslashes](https://www.pythontutorial.net/python-basics/python-backslash/).\n",
    "\n",
    "Finally, it should be noted, there is one other option. If you have Metadata Wizard installed, you can launch Jupyter from within Metadata Wizard and then open this notebook (look at the example notebooks mentioned below for how to import the Metadata Wizard utilities). Metadata Wizard is installed with an entire instance of python with all of the special dependencies needed to run it, including an instance of Jupyter. It's a little heavy for our purposes here and because it turns out that we only need one additional file for operations in this notebook and not everyone will want to install Metadata Wizard, I simply copied `xml_utils.py` into the GeMS Tools toolbox. Using just this file makes this Notebook environment-agnostic and it should work with nearly any instance of Python 3.\n",
    "\n",
    "It may be useful to first read through a Jupyter Notebook included with Metadata Wizard called **pymdwizard scripting (Start Here).ipynb** which can be found in `MetadataWizard\\fort-pymdwizard\\examples` or [online](https://github.com/DOI-USGS/fort-pymdwizard/blob/master/examples/pymdwizard%20scripting%20(Start%20Here).ipynb)."
   ]
  },
  {
   "cell_type": "markdown",
   "metadata": {
    "jp-MarkdownHeadingCollapsed": true
   },
   "source": [
    "## Contents"
   ]
  },
  {
   "cell_type": "markdown",
   "metadata": {},
   "source": [
    "The internal links here don't work for me in ArcGIS Pro for some reason; only if the notebook is opened through a different Jupyter server. I recommend using Visual Studio Code."
   ]
  },
  {
   "cell_type": "markdown",
   "metadata": {},
   "source": [
    "[Imports](#imports)  \n",
    "[Functions](#functions)  \n",
    "[XPaths and the XMLRecord dot notation](#xpaths)  \n",
    "[Start with a folder of XML files](#start)  \n",
    "[Find and replace text in the input file](#findreplace)  \n",
    "[Make a python dictionary of file and XMLRecord](#records)  \n",
    "[Read the title for each record](#read_title)  \n",
    "[Read any attribute based on the xpath](#read_attr)  \n",
    "[Remove new-line and tab characters in element text](#remove_nl)  \n",
    "[Use custom entity-attribute definition file](#my_defs)  \n",
    "[Remove extraneous fields](#remove_fields)  \n",
    "[Tokens](#tokens)  \n",
    "[Edit titles using tokens](#edit_title)  \n",
    "[Edit multiple elements from a dictionary](#edit_from_dict)  \n",
    "[Spatial elements](#spatial)  \n",
    "[Add a spdom element](#spdom)  \n",
    "[Add a metadata contact element](#metc)  \n",
    "[Sorting keywords](#sort_kw)  \n",
    "[Sorting Entity nodes](#sort_ents)  \n",
    "[Sorting Attribute nodes](#sort_attrs)  \n",
    "[Sorting source info by publication date](#sort_source)  \n",
    "[Sorting process steps by date](#sort_prcstep)  \n",
    "[Save templates to new files](#save)"
   ]
  },
  {
   "cell_type": "markdown",
   "metadata": {
    "jp-MarkdownHeadingCollapsed": true
   },
   "source": [
    "<a id='imports'></a>"
   ]
  },
  {
   "cell_type": "markdown",
   "metadata": {},
   "source": [
    "## Imports"
   ]
  },
  {
   "cell_type": "code",
   "execution_count": 1,
   "metadata": {},
   "outputs": [],
   "source": [
    "import sys\n",
    "# add some paths to folders inside the GeMS Tools toolbox directory.\n",
    "scripts = \"C:\\\\AAA\\\\gems\\\\gitspace\\\\gems-atbx\\\\scripts\"\n",
    "sys.path.append(scripts)\n",
    "    \n",
    "import xml_utils as xu\n",
    "import metadata_utilities as mu\n",
    "from pathlib import Path\n",
    "from itertools import islice\n",
    "import csv\n",
    "from dateutil import parser\n",
    "import copy\n",
    "\n",
    "from importlib import reload"
   ]
  },
  {
   "cell_type": "code",
   "execution_count": 2,
   "metadata": {},
   "outputs": [],
   "source": [
    "# some constant paths. Set these for your location of the GeMS Tools toolbox\n",
    "resources = \"C:\\\\AAA\\\\gems\\\\gitspace\\\\gems-atbx\\\\resources\"\n",
    "md_resources = \"C:\\\\AAA\\\\gems\\\\gitspace\\\\gems-atbx\\\\resources\\\\metadata\""
   ]
  },
  {
   "cell_type": "markdown",
   "metadata": {
    "jp-MarkdownHeadingCollapsed": true
   },
   "source": [
    "<a id='functions'></a>"
   ]
  },
  {
   "cell_type": "markdown",
   "metadata": {
    "jp-MarkdownHeadingCollapsed": true
   },
   "source": [
    "## Functions"
   ]
  },
  {
   "cell_type": "code",
   "execution_count": 8,
   "metadata": {},
   "outputs": [],
   "source": [
    "def find_attr(obj, attr):\n",
    "    \"\"\"Return an attribute of an object given a dot-delimited\n",
    "    string representation of the path to the attribute\"\"\"\n",
    "    attrs = attr.split(\".\")\n",
    "    for a in attrs:\n",
    "        try:\n",
    "            obj = getattr(obj, a)\n",
    "        except AttributeError:\n",
    "            obj = None\n",
    "            \n",
    "    return obj"
   ]
  },
  {
   "cell_type": "code",
   "execution_count": 9,
   "metadata": {},
   "outputs": [],
   "source": [
    "def extend_branch(record, x_path):\n",
    "    \"\"\"Builds out a branch incrementally if the full xpath does not yet exist\n",
    "    if 'record' is an XMLRecord (has the attribute metadata), we'll select the \n",
    "    metadata node and go from there. Otherwise, 'record' will really be an XMLNode\n",
    "    Does not work for branches that have elements that XMLRecord returns as lists\"\"\"\n",
    "    # parameter node always starts with 'metadata' so start searching for attributes at \n",
    "    # index = 1 after splitting\n",
    "    if hasattr(record, \"metadata\"):\n",
    "        node = record.metadata\n",
    "    else:\n",
    "        node = record\n",
    "\n",
    "    for attr in x_path.split(\".\"):\n",
    "        if getattr(node, attr, None):\n",
    "            node = getattr(node, attr)\n",
    "        else:\n",
    "            node.add_child(xu.XMLNode(tag=attr))\n",
    "            node = getattr(node, attr)\n",
    "    return node"
   ]
  },
  {
   "cell_type": "code",
   "execution_count": 10,
   "metadata": {},
   "outputs": [],
   "source": [
    "def take(n, iterable):\n",
    "    \"\"\"Return the first n items of the iterable as a list.\"\"\"\n",
    "    return list(islice(iterable, n))"
   ]
  },
  {
   "cell_type": "markdown",
   "metadata": {},
   "source": [
    "<a id='xpaths'></a>"
   ]
  },
  {
   "cell_type": "markdown",
   "metadata": {
    "heading_collapsed": true,
    "jp-MarkdownHeadingCollapsed": true
   },
   "source": [
    "## XPaths and the XMLRecord dot notation"
   ]
  },
  {
   "attachments": {
    "image-2.png": {
     "image/png": "[encoded data removed]"
    },
    "image.png": {
     "image/png": "[encoded data removed]"
    }
   },
   "cell_type": "markdown",
   "metadata": {
    "hidden": true
   },
   "source": [
    "Every node or element in an XML record can be navigated to by its so-called XPath which is the chain of node names leading to it, e.g., `metadata/idinfo/citation/citeinfo` or `metadata/eainfo/detailed/enttyp/enttypl`. Within the FGDC-CSDGM XML schema, the node names in the xpath are shortened or abbreviated forms of more readable names like `Citation_Information` or `Entity_Type_Label`, respectively, which you normally see in the text version of an XML metadata record. When an XML file has been converted into an XMLRecord by `xml_utils.py`, those XPaths are accessible through so-called dot notation. For example, say we create an XMLRecord from a file:\n",
    "\n",
    "`md = xu.XMLRecord(\"C:\\path\\to\\metadata.xml\")`\n",
    "\n",
    "We could then access the `citeinfo` node through dot notation:\n",
    "\n",
    "`cite_info = md.metadata.idinfo.citation.citeinfo`\n",
    "\n",
    "Intellisense in ArcGIS Pro or VS Code should show you a list of attributes available at any one attribute:\n",
    "\n",
    "![image.png](attachment:image.png)\n",
    "\n",
    "as well as a number of methods available through `xml_utils`.\n",
    "\n",
    "In the `resources/metadata` folder of the GeMS Tools toolbox is a file called `long_name_xpath.txt` which shows the long name for each CSDGM element, indented according to hierarchy, followed by the full dot-notated xpath. You can look an element name up in that file and copy the xpath for use in this Notebook. \n",
    "\n",
    "![image-2.png](attachment:image-2.png)\n",
    "\n",
    "Note that you can paste the xpath directly to a variable for an XMLRecord, e.g.,\n",
    "\n",
    "`print(md.metadata.idinfo.citation.citeinfo.title.text)` \n",
    "\n",
    "or you can use the `find_attr` function above and pass it the XMLRecord and a string representation of the xpath, e.g.,\n",
    "\n",
    "```\n",
    "my_el = \"metadata.idinfo.citation.citeinfo.title\"\n",
    "print(find_attr(xml_record, my_el).text.\n",
    "```\n",
    "\n",
    "The latter is a bit easier when iterating through many records because you can save the string to a shorter variable.\n",
    "\n",
    "It is possible I did not add all elements. If that's the case, you will have to refer to the [schema](https://www.fgdc.gov/csdgmgraphical/index.html) (though older, this link is to my preferred documentation of the schema) and work it out from scratch.\n",
    "\n",
    "Note that some elements are returned as lists, `keywords` being a good example. In that case, to get a pointer to a specific child node, you will have to specify an index; for example:\n",
    "\n",
    "`metadata.idinfo.keywords.theme.themekey[2]` retrieves the third `Theme_Keyword` in the list."
   ]
  },
  {
   "cell_type": "code",
   "execution_count": null,
   "metadata": {
    "hidden": true
   },
   "outputs": [],
   "source": [
    "# print out the contents of long_name_xpath.txt\n",
    "with open(Path(md_resources) / \"long_name_xpath.txt\") as f:\n",
    "    for line in f.readlines():\n",
    "        print(line.strip('\\n'))"
   ]
  },
  {
   "cell_type": "markdown",
   "metadata": {},
   "source": [
    "<a id='start'></a>"
   ]
  },
  {
   "cell_type": "markdown",
   "metadata": {
    "heading_collapsed": true
   },
   "source": [
    "## Start with a folder of XML files"
   ]
  },
  {
   "cell_type": "code",
   "execution_count": null,
   "metadata": {
    "hidden": true
   },
   "outputs": [],
   "source": [
    "# copy r\"path\\to\\GemsTools\\resources\\metadata\\templates\" to another\n",
    "# folder and set temps_folder below\n",
    "#temps_folder = Pat\"C:\\\\AAA\\\\gems\\\\gitspace\\\\gems-atbx\\\\resources\\\\metadata\\\\templates\"\n",
    "temps_folder = \"C:\\\\AAA\\\\gems\\\\gitspace\\\\gems-atbx\\\\resources\\\\metadata\\\\templates\"\n",
    "\n",
    "# print the list of the xml files there\n",
    "for f in Path(temps_folder).glob('*.xml'):\n",
    "    print(f.name)"
   ]
  },
  {
   "cell_type": "markdown",
   "metadata": {},
   "source": [
    "<a id='findreplace'></a>"
   ]
  },
  {
   "cell_type": "markdown",
   "metadata": {
    "jp-MarkdownHeadingCollapsed": true
   },
   "source": [
    "## Find and replace text in the input file"
   ]
  },
  {
   "cell_type": "markdown",
   "metadata": {},
   "source": [
    "Here's a simple way to find and replace text in the XML files using `fileinput` which allows you to edit in place while iterating over a collection of files.\n",
    "\n",
    "Unlike the other steps in this notebook, which make changes to an in-memory copy of the files that you can inspect before finally writing it to a file, this step will make changes to the input file iteself. If you have any concern about recovering the original in the case of a mistake, make a copy first using the `backup` parameter of `fileinput.FileInput`"
   ]
  },
  {
   "cell_type": "code",
   "execution_count": null,
   "metadata": {},
   "outputs": [],
   "source": [
    "import fileinput\n",
    "# look for enttypds and attrdefs elements\n",
    "gems = \"GeMS (Geologic Map Schema) - a standard format for the digital publication of geologic maps, available at http://ngmdb.usgs.gov/Info/standards/GeMS/\"\n",
    "tags = (\"enttypds\", \"attrdefs\", \"codesets\")\n",
    "for p in Path(temps_folder).glob('*.xml'):\n",
    "    # use 'backup=\".bak\"' to make a copy of the original or remove that parameter if you are confident of the edit\n",
    "    # with fileinput.FileInput(p, inplace=True, backup=\".bak\") as f:\n",
    "    with fileinput.FileInput(p, inplace=True) as f:\n",
    "        for line in f:\n",
    "            found = False\n",
    "            for tag in tags:\n",
    "                old_def = f\"<{tag}>GeMS</{tag}>\"\n",
    "                if old_def in line: \n",
    "                    new_def = f\"<{tag}>{gems}</{tag}>\"\n",
    "                    print(line.replace(old_def, new_def), end ='') \n",
    "                    found = True\n",
    "            if not found:\n",
    "                print(line, end ='') "
   ]
  },
  {
   "cell_type": "markdown",
   "metadata": {},
   "source": [
    "<a id=\"records\"></a>"
   ]
  },
  {
   "cell_type": "markdown",
   "metadata": {},
   "source": [
    "## Make a python dictionary of file and XMLRecord"
   ]
  },
  {
   "cell_type": "code",
   "execution_count": 21,
   "metadata": {
    "hidden": true
   },
   "outputs": [],
   "source": [
    "# make a dictonary of file names and the XMLRecord created from the file by xml_utils\n",
    "records = {f.stem: xu.XMLRecord(f) for f in Path(temps_folder).glob('*.xml')}\n",
    "\n",
    "# for k, v in records.items():\n",
    "#     # print out the .__class__ \"magic\" attribute of the value to check that the XMLRecord was created\n",
    "#     print(k, v.__class__)"
   ]
  },
  {
   "cell_type": "markdown",
   "metadata": {},
   "source": [
    "<a id='read_title'></a>"
   ]
  },
  {
   "cell_type": "markdown",
   "metadata": {
    "heading_collapsed": true,
    "jp-MarkdownHeadingCollapsed": true
   },
   "source": [
    "## Read the title for each record"
   ]
  },
  {
   "cell_type": "code",
   "execution_count": null,
   "metadata": {
    "hidden": true
   },
   "outputs": [],
   "source": [
    "# the generic_template.xml has two title elements because it can be used as a generic template\n",
    "# for both 'report' level metadata describing everything in the database in one record\n",
    "# or for 'single' level metadata that describes only one table.\n",
    "# At each record you could find the title by \n",
    "el_path = \"metadata.idinfo.citation.citeinfo.title\"\n",
    "for k, v in records.items():\n",
    "    print(k)\n",
    "    el = find_attr(v, el_path)\n",
    "    if type(el) == list:\n",
    "        for n in el:\n",
    "            print(n.text)\n",
    "    else:\n",
    "        print(el.text)"
   ]
  },
  {
   "cell_type": "markdown",
   "metadata": {},
   "source": [
    "<a id='read_attr'></a>"
   ]
  },
  {
   "cell_type": "markdown",
   "metadata": {
    "heading_collapsed": true,
    "jp-MarkdownHeadingCollapsed": true
   },
   "source": [
    "## Read any attribute based on the xpath"
   ]
  },
  {
   "cell_type": "markdown",
   "metadata": {
    "heading_collapsed": true,
    "jp-MarkdownHeadingCollapsed": true
   },
   "source": [
    "Find the xpath in `long_name_xpath.txt` for any element you want to see the text for, copy it, and paste it into `el_path` below."
   ]
  },
  {
   "cell_type": "code",
   "execution_count": null,
   "metadata": {
    "hidden": true
   },
   "outputs": [],
   "source": [
    "el_path = \"metadata.eainfo.detailed.enttyp.enttypd\"\n",
    "for k, v in records.items():\n",
    "    print(k)\n",
    "    el = find_attr(v, el_path)\n",
    "    if type(el) == list:\n",
    "        for n in el:\n",
    "            if n.text:\n",
    "                print(n.text)\n",
    "            else:\n",
    "                print(\"None\")\n",
    "    else:\n",
    "        if el:\n",
    "            print(el.text)\n",
    "        else:\n",
    "            print(\"None\")"
   ]
  },
  {
   "cell_type": "markdown",
   "metadata": {},
   "source": [
    "<a id='remove_nl'></a>"
   ]
  },
  {
   "cell_type": "markdown",
   "metadata": {},
   "source": [
    "## Remove new-line and tab characters in element text"
   ]
  },
  {
   "cell_type": "markdown",
   "metadata": {},
   "source": [
    "The templates I am starting with have a lot of tab and new-line characters in free-text elements, which look ok when the XML has been pretty-printed and displayed in a text editor with a narrow window, but I think in general you should not try to format the text inside of XML files because it is hard to predict how the whitespace will be interpreted by a translator (to HTML, for example) or in a text editor. To remove all of these, the simplest thing is to run `.split()` on the entire file, rebuild with `' '.join()`, and then convert to a new XMLRecord to insert the correct indentations and new-line characters only after closing XML tags. If you have any formatting you want preserved such as paragraph breaks or bullet-like lists, don't run this step; that will all be clobbered."
   ]
  },
  {
   "cell_type": "code",
   "execution_count": 22,
   "metadata": {},
   "outputs": [],
   "source": [
    "for k, v in records.items():\n",
    "    xml_str = str(v._contents)\n",
    "    xml_str = ' '.join(xml_str.split())\n",
    "    records[k] = xu.XMLRecord(xml_str)"
   ]
  },
  {
   "cell_type": "code",
   "execution_count": null,
   "metadata": {},
   "outputs": [],
   "source": [
    "# confirm this worked with a couple records\n",
    "for key, value in take(3, records.items()):\n",
    "    print(key, value)"
   ]
  },
  {
   "cell_type": "markdown",
   "metadata": {},
   "source": [
    "<a id=\"my_defs\"></a>"
   ]
  },
  {
   "cell_type": "markdown",
   "metadata": {
    "jp-MarkdownHeadingCollapsed": true
   },
   "source": [
    "## Use custom entity-attribute definition file"
   ]
  },
  {
   "cell_type": "markdown",
   "metadata": {},
   "source": [
    "When using the `Collate Metadata Sources` tool, you can supply a CSV file containing the definitions for custom tables and fields to automate the writing of Entity_Attribute sections. An example called `my_definitions.csv` is supplied with the toolbox in the `resources` folder. In this section, we'll read a customized definitions file and use it to populate the template files. You can also add use this file to add attributes to entity sections that do not already exist, although only fields associated with specific named tables will be evaluated. Those listed after the `ANY_TABLE` tag (see the documentation in the header of the file) will not.\n",
    "\n",
    "There are a couple functions in `metadata_utilities.py` that I wrote that read the contents of a definitions file into a couple dictionaries; one for tables and one for fields.\n",
    "\n",
    "For some reason, the code in this section does not work after other sections that also work on `detailed` elements have run. It's some weird memory issue that I solved in other cells that make copies of `detailded` elements but was unable to do so here. "
   ]
  },
  {
   "cell_type": "code",
   "execution_count": 19,
   "metadata": {},
   "outputs": [],
   "source": [
    "# read the contents of the file for context\n",
    "my_defs = Path(md_resources) / \"gems_ea_definitions.csv\"\n",
    "# with open(my_defs, 'r') as f:\n",
    "#     for line in f.readlines():\n",
    "#         print(line.strip('\\n'))"
   ]
  },
  {
   "cell_type": "code",
   "execution_count": 20,
   "metadata": {},
   "outputs": [],
   "source": [
    "table_defs = mu.table_defs_from_csv(my_defs)\n",
    "field_defs = mu.field_defs_from_csv(my_defs)"
   ]
  },
  {
   "cell_type": "code",
   "execution_count": 21,
   "metadata": {},
   "outputs": [
    {
     "name": "stdout",
     "output_type": "stream",
     "text": [
      "Anno\n",
      "GeMS_ANY_TABLE-metadata\n"
     ]
    }
   ],
   "source": [
    "# run through the records looking for tables and fields defined in the definitions file\n",
    "for k, v in records.items():\n",
    "    print(k)\n",
    "    try:\n",
    "        detaileds = v.metadata.eainfo.detailed\n",
    "        if detaileds and not type(detaileds) == list:\n",
    "            detaileds = [detaileds]\n",
    "    except AttributeError:\n",
    "        detaileds = []\n",
    "\n",
    "    for detailed in detaileds:\n",
    "        if enttypl := find_attr(detailed, \"enttyp.enttypl\"):\n",
    "            if enttypl.text in table_defs:\n",
    "                tbl_name = enttypl.text\n",
    "                # look for a table definition in table_defs\n",
    "                tbl_def = table_defs[tbl_name][0]\n",
    "                def_src = table_defs[tbl_name][1]\n",
    "                extend_branch(detailed, \"enttyp.enttypd\").text = tbl_def\n",
    "                extend_branch(detailed, \"enttyp.enttypds\").text = def_src\n",
    "\n",
    "            # collect a list of fields from field_defs for this table\n",
    "            field_list = []\n",
    "            if enttypl.text in field_defs:\n",
    "                field_list = [n for n in field_defs[tbl_name]]\n",
    "                \n",
    "            #  extend field_list to include ANY_TABLE fields  \n",
    "            if \"ANY_TABLE\" in field_defs:\n",
    "                field_list.extend(field_defs[\"ANY_TABLE\"])\n",
    "\n",
    "            # proceed only if we have custom field definitions\n",
    "            if field_list:\n",
    "                attrs = find_attr(detailed, \"attr\")\n",
    "                for attr in attrs:\n",
    "                    attrlabl = find_attr(attr, \"attrlabl\")\n",
    "                    for field_item in field_list:\n",
    "                        if attrlabl.text == field_item[0]:\n",
    "                            extend_branch(attr, \"attrdef\").text = field_item[1]\n",
    "                            extend_branch(attr, \"attrdefs\").text = field_item[2]\n",
    "\n",
    "                            # check for domain information\n",
    "                            if len(field_item) > 3:\n",
    "                                dom_text = field_item[3]\n",
    "                                if dom_text == \"rdom\":\n",
    "                                    dom_vals = field_item[4].split(\",\")\n",
    "                                    extend_branch(attr, \"attrdomv.rdom.rdommin\").text = dom_vals[0].strip()\n",
    "                                    extend_branch(attr, \"attrdomv.rdom.rdommax\").text = dom_vals[1].strip()\n",
    "                                    extend_branch(attr, \"attrdomv.rdom.attrunit\").text = dom_vals[2].strip()\n",
    "                                    extend_branch(attr, \"attrdomv.rdom.attrrmres\").text = dom_vals[3].strip()\n",
    "                                    \n",
    "                                if dom_text == \"edom\":\n",
    "                                    for edom in field_item[4].split(\"|\"):\n",
    "                                        # can't use def extend_branch for multiple elements (when XMLRecord)\n",
    "                                        # would return a list of elements\n",
    "                                        dom_vals = edom.split(\",\")\n",
    "                                        attrdomv_str = f\"\"\"\n",
    "                                        <attrdomv>\n",
    "                                            <edom>\n",
    "                                                <edomv>{dom_vals[0].strip()}</edomv>\n",
    "                                                <edomvd>{dom_vals[1].strip()}</edomvd>\n",
    "                                                <edomvds>{dom_vals[2].strip()}</edomvds>\n",
    "                                            </edom>\n",
    "                                        </attrdomv>\n",
    "                                        \"\"\"\n",
    "                                        attr.add_child(xu.XMLNode(attrdomv_str))\n",
    "\n",
    "                                if dom_text == \"codestd\":\n",
    "                                    dom_vals = field_item[4].split(\",\")\n",
    "                                    extend_branch(attr, \"attrdomv.codesetd.codesetn\").text = dom_vals[0].strip()\n",
    "                                    extend_branch(attr, \"attrdomv.codesetd.codesets\").text = dom_vals[1].strip()\n",
    "                                    \n",
    "                                if dom_text == \"udom\":\n",
    "                                    extend_branch(attr, \"attrdomv.udom\").text = field_item[4]\n"
   ]
  },
  {
   "cell_type": "code",
   "execution_count": null,
   "metadata": {},
   "outputs": [],
   "source": [
    "# print a the detailed section of a couple records to see that this worked\n",
    "for k, v in take(2, records.items()):\n",
    "    print(k)\n",
    "    print(v.metadata.eainfo.detailed)\n",
    "    print(\"\\n\")"
   ]
  },
  {
   "cell_type": "markdown",
   "metadata": {},
   "source": [
    "<a id='remove_fields'></a>"
   ]
  },
  {
   "cell_type": "markdown",
   "metadata": {
    "jp-MarkdownHeadingCollapsed": true
   },
   "source": [
    "## Remove extraneous fields"
   ]
  },
  {
   "cell_type": "markdown",
   "metadata": {
    "jp-MarkdownHeadingCollapsed": true
   },
   "source": [
    "The `Collate FGDC Metadata` tool does not add attribute (field) information from a template for fields that do not exist in the table, but you may still want to remove extraneous fields from the templates."
   ]
  },
  {
   "cell_type": "code",
   "execution_count": 26,
   "metadata": {},
   "outputs": [],
   "source": [
    "# remove the Editor Tracking fields if they exist. \n",
    "# I would argue that they don't belong in published databases.\n",
    "del_attr = [\"created_user\", \"created_date\", \"last_edited_user\", \"last_edited_date\"]\n",
    "for k, v in records.items():\n",
    "    try:\n",
    "        # try to make an object of all detailed nodes. There is one detailed node per table\n",
    "        detaileds = v.metadata.eainfo.detailed\n",
    "        # XMLRecord saves single attributes as an XMLNode but multiple XMLNodes are saved as a list of XMLNodes.\n",
    "        # If there is just one node, we will convert it to a list of one item so that we don't have to test\n",
    "        # and can use a for loop regardless of whether there is one node or multiple\n",
    "        if detaileds and not type(detaileds) == list:\n",
    "            detaileds = [detaileds]\n",
    "    except AttributeError:\n",
    "        detaileds = None\n",
    "\n",
    "    if detaileds:\n",
    "        for detailed in detaileds:\n",
    "            if hasattr(detailed, \"attr\"):\n",
    "                # make a copy of all attr nodes\n",
    "                attrs = copy.deepcopy(detailed.attr)\n",
    "\n",
    "                # remove them from original\n",
    "                # see footnote about clear_children and del if you care why there are two \n",
    "                # lines that seem to do the same thing\n",
    "                detailed.clear_children(tag=\"attr\")\n",
    "                del detailed.attr\n",
    "\n",
    "                # filter the list of attr elements\n",
    "                add_attrs = [n for n in attrs if not n.attrlabl.text.lower() in del_attr]\n",
    "                \n",
    "                # add the filtered list of attr back\n",
    "                for add_attr in add_attrs:\n",
    "                    detailed.add_child(add_attr)"
   ]
  },
  {
   "cell_type": "code",
   "execution_count": null,
   "metadata": {},
   "outputs": [],
   "source": [
    "# print out a couple records to see that this worked:\n",
    "for k, v in take(2, records.items()):\n",
    "    print(k)\n",
    "    try:\n",
    "        detaileds = v.metadata.eainfo.detailed\n",
    "        if detaileds and not type(detaileds) == list:\n",
    "            detaileds = [detaileds]\n",
    "    except AttributeError:\n",
    "        detaileds = None\n",
    "\n",
    "    if detaileds:\n",
    "        for detailed in detaileds:\n",
    "            try:\n",
    "                attrs = detailed.attr\n",
    "                for attr in attrs:\n",
    "                    print(\"  \" + attr.attrlabl.text)\n",
    "            except:\n",
    "                pass"
   ]
  },
  {
   "cell_type": "markdown",
   "metadata": {},
   "source": [
    "<a id='tokens'></a>"
   ]
  },
  {
   "cell_type": "markdown",
   "metadata": {
    "jp-MarkdownHeadingCollapsed": true
   },
   "source": [
    "## Tokens"
   ]
  },
  {
   "cell_type": "markdown",
   "metadata": {},
   "source": [
    "A few of the GeMS metadata tools recognize some special \"token\" words that are placeholders for programmatically derived values. The full set is:\n",
    "\n",
    "```\n",
    "[[CONTENTS]]: a high-level summary of the contents of the geodatabase\n",
    "[[VERBOSE CONTENTS]]: a longer summary listing names of objects and some basic relationships between tables in a GeMS database.\n",
    "[[DATABASE]]: the name of the database file\n",
    "[[DTYPE]]: the data type of a database object\n",
    "[[FEATURE DATASET]]: f\"This {data_type} is found within the {fd} feature dataset\"\n",
    "[[GEMS]]: \"GeMS (Geologic Map Schema)--a standard format for the digital publication of geologic maps\", available at http://ngmdb.usgs.gov/Info/standards/GeMS/\n",
    "[[OBJECT]]: the name of a table or feature class\n",
    "[[SCRIPT]]: the version string of a script\n",
    "[[X]]: the code of a line of cross-section, ie CS[[X]] becomes CSA\n",
    "```\n",
    "\n",
    "You can put the token in a template file where you want information to be automatically added. Because the GeMS templates are named after GeMS-defined objects but can be applied to custom named objects, e.g., you can use a template for `ContactsAndFaults` for `SurficialContactsAndFaults`."
   ]
  },
  {
   "cell_type": "markdown",
   "metadata": {},
   "source": [
    "<a id='edit_title'></a>"
   ]
  },
  {
   "cell_type": "markdown",
   "metadata": {
    "jp-MarkdownHeadingCollapsed": true
   },
   "source": [
    "## Edit titles using tokens"
   ]
  },
  {
   "cell_type": "markdown",
   "metadata": {},
   "source": [
    "The titles in the set of templates I am starting with all take the form of \"Feature dataset ContactsAndFaults, part of Metadata Template\" or \"Non-spatial table Glossary, part of Metadata Template\". I want to keep the two-word designation of the data type, replace the name with `[[OBJECT]]` so we can work with customized names, and replace \"Metadata Template\" with `[[DATABASE]]`. \n",
    "\n",
    "I could save every title as \"[[DATATYPE]] [[OBJECT]], part of [[DATABASE]]\", but I like the idea of the data type being saved explicitly in each template for reference when being edited."
   ]
  },
  {
   "cell_type": "code",
   "execution_count": 28,
   "metadata": {},
   "outputs": [],
   "source": [
    "# the form that I want of Supplemental Information starts off similar to Title, so we'll write that too\n",
    "for k, v in records.items():\n",
    "    if not k == \"generic_template\":\n",
    "        orig_title = v.metadata.idinfo.citation.citeinfo.title.text\n",
    "        words = orig_title.split(\" \")\n",
    "        new_title = f\"{words[0]} {words[1]} [[OBJECT]], part of [[DATABASE]]\"\n",
    "        supplinf = f\"{words[0]} {words[1]} [[OBJECT]] is part of [[DATABASE]], a composite dataset that conforms to [[GeMS]]. [[FEATURE DATASET]]. This file was partially automated by the use of [[SCRIPT]].\"\n",
    "        v.metadata.idinfo.citation.citeinfo.title.text = new_title\n",
    "        v.metadata.idinfo.descript.supplinf.text = supplinf\n",
    "        records[k] = v"
   ]
  },
  {
   "cell_type": "code",
   "execution_count": null,
   "metadata": {},
   "outputs": [],
   "source": [
    "# confirm this worked with a few records\n",
    "for key, value in take(5, records.items()):\n",
    "    print(value.metadata.idinfo.citation.citeinfo.title.text)"
   ]
  },
  {
   "cell_type": "markdown",
   "metadata": {},
   "source": [
    "<a id='edit_from_dict'></a>"
   ]
  },
  {
   "cell_type": "markdown",
   "metadata": {
    "jp-MarkdownHeadingCollapsed": true
   },
   "source": [
    "## Edit multiple elements using a python dictionary"
   ]
  },
  {
   "cell_type": "markdown",
   "metadata": {},
   "source": [
    "Use a dictionary to save the text values for several nodes. Find the xpath of each node you want to change in `long_name_xpath.txt` and then write out the value for it. For this step to work, the node must be unique, that is, the xpath can't return a list of nodes. I don't have many to keep track of in the default GeMS templates, but you may want to add much more project-specific text. If the node does not already exist in the record, the code below will create it.\n",
    "\n",
    "If you find it easier to keep track of template language in a CSV or Excel file, you can do that too and then read the two appropriate columns into a dictionary. There is an example in `resources/metadata` called `change_nodes.csv`. The second cell below has code for that. Use the cell directly below or the next one before running the third.\n",
    "\n",
    "Note that in this step, depending on when you decide to run it, `eainfo.overview` will be inserted into `eainfo` in the wrong order; it should follow `detailed` sections. Don't worry about that too much in your templates because mp can re-sort elements into the correct order."
   ]
  },
  {
   "cell_type": "code",
   "execution_count": 30,
   "metadata": {},
   "outputs": [],
   "source": [
    "# edit the content of change_nodes here\n",
    "change_nodes = {\n",
    "     \"metadata.dataqual.attracc.attraccr\" : \"Confidence that a feature exists and confidence that a feature is correctly identified are described in per-feature attributes ExistenceConfidence and IdentityConfidence.\",\n",
    "     \"metadata.dataqual.posacc.horizpa.horizpar\" : \"Estimated accuracy of horizontal location is given on a per-feature basis by attribute LocationConfidenceMeters. Values are expected to be correct within a factor of 2.  A LocationConfidenceMeters value of -9 or -9999 indicates that no value has been assigned.\",\n",
    "     \"metadata.idinfo.accconst\" : \"None\",\n",
    "     \"metadata.idinfo.useconst\" : \"None\",\n",
    "     \"metadata.eainfo.overview.eaover\" : \"[[VERBOSE CONTENTS]]\",\n",
    "     \"metadata.eainfo.overview.eadetcit\" : \"[[GeMS]]\"\n",
    " }"
   ]
  },
  {
   "cell_type": "code",
   "execution_count": 31,
   "metadata": {},
   "outputs": [],
   "source": [
    "# OR read in the contents from a CSV (change_nodes.csv in /resources/metadata is an example that\n",
    "# has the same content as in the cell above\n",
    "change_file = Path(md_resources) / \"change_nodes.csv\"\n",
    "change_nodes = {}\n",
    "with open(change_file, 'r') as file:\n",
    "    reader = csv.reader(file)\n",
    "    next(reader)\n",
    "    for row in reader:\n",
    "        change_nodes[row[0]] = row[1]\n",
    "#print(change_nodes)"
   ]
  },
  {
   "cell_type": "code",
   "execution_count": 32,
   "metadata": {},
   "outputs": [],
   "source": [
    "# go through the dictionary and make the changes\n",
    "for n, r in records.items():\n",
    "    for k, v in change_nodes.items():\n",
    "        node = extend_branch(r, k)\n",
    "        node.text = v.strip()"
   ]
  },
  {
   "cell_type": "code",
   "execution_count": null,
   "metadata": {},
   "outputs": [],
   "source": [
    "# confirm this worked with a few records\n",
    "for key, value in take(2, records.items()):\n",
    "    print(key, value)"
   ]
  },
  {
   "cell_type": "markdown",
   "metadata": {},
   "source": [
    "<a id='spatial'></a>"
   ]
  },
  {
   "cell_type": "markdown",
   "metadata": {
    "heading_collapsed": true,
    "jp-MarkdownHeadingCollapsed": true
   },
   "source": [
    "## Spatial elements"
   ]
  },
  {
   "cell_type": "markdown",
   "metadata": {
    "hidden": true
   },
   "source": [
    "The spatial elements in metadata are usually best left to being automatically generated from the inherent properties of feature classes so my recommendation is to remove them from template files. This also makes the templates more generic for use with multiple projects but if you have special requirements, you can write those elements yourself.\n",
    "\n",
    "You remove children with the `clear_children` method."
   ]
  },
  {
   "cell_type": "code",
   "execution_count": 92,
   "metadata": {
    "hidden": true
   },
   "outputs": [],
   "source": [
    "# remove all spatial elements from all templates\n",
    "# we'll use a dictionary of the name of the element to remove and its parent\n",
    "remove = [\n",
    "    \"metadata.idinfo.spdom\",\n",
    "    \"metadata.spdoinfo\",\n",
    "    \"metadata.spref\",\n",
    "]\n",
    "\n",
    "# add more entries to the remove dictionary as necessary for any elements you want cleared\n",
    "# the function rgetattr converts strings, even dot-nested names, to attributes of the object\n",
    "# we'll chop up the paths in remove to get the name of the child to remove \n",
    "# and a path to it's parent\n",
    "for record in records.values():\n",
    "    for el in remove:\n",
    "        chunks = el.split(\".\")\n",
    "        parent_path = \".\".join(chunks[:-1])\n",
    "        child = chunks[-1]\n",
    "        parent = find_attr(record, parent_path)\n",
    "        parent.clear_children(tag=child)"
   ]
  },
  {
   "cell_type": "code",
   "execution_count": null,
   "metadata": {
    "hidden": true
   },
   "outputs": [],
   "source": [
    "# confirm this worked with a couple records\n",
    "for key, value in take(2, records.items()):\n",
    "    print(key, value)"
   ]
  },
  {
   "cell_type": "markdown",
   "metadata": {},
   "source": [
    "<a id='spdom'></a>"
   ]
  },
  {
   "cell_type": "markdown",
   "metadata": {
    "heading_collapsed": true,
    "jp-MarkdownHeadingCollapsed": true
   },
   "source": [
    "## Add a spdom element"
   ]
  },
  {
   "cell_type": "markdown",
   "metadata": {
    "hidden": true
   },
   "source": [
    "The spatial element you may want to add to all templates is the `Spatial_Domain` or `spdom` element because the calculated coordinates will probably never be exactly the same as those for a particular quadrangle that defines a mapping project. You could add each node one at a time, but an easier way is to convert a string to an XMLNode and then add it to the parent node."
   ]
  },
  {
   "cell_type": "code",
   "execution_count": null,
   "metadata": {
    "hidden": true
   },
   "outputs": [],
   "source": [
    "# add the appropriate numbers to the four variables below\n",
    "westbc = 1\n",
    "eastbc = 2\n",
    "northbc = 3\n",
    "southbc = 4\n",
    "\n",
    "# save an xml-formatted string to a variable\n",
    "add_spdom = f\"\"\"\n",
    "<spdom>\n",
    "  <bounding>\n",
    "    <westbc>{westbc}</westbc>\n",
    "    <eastbc>{eastbc}</eastbc>\n",
    "    <northbc>{northbc}</northbc>\n",
    "    <southbc>{southbc}</southbc>\n",
    "  </bounding>\n",
    "</spdom>\n",
    "\"\"\"\n",
    "\n",
    "#turn that into an XMLNode\n",
    "spdom = xu.XMLNode(add_spdom)\n",
    "\n",
    "# run through the records, filtering out non-spatial tables and the GeoMaterialDict\n",
    "# and add the spdom element\n",
    "for k, r in records.items():\n",
    "    if not k == \"generic_template\":\n",
    "        title = r.metadata.idinfo.citation.citeinfo.title.text\n",
    "        if not any(n in title for n in (\"Non-spatial table\", \"GeoMaterialDict\")):\n",
    "            r.metadata.idinfo.add_child(spdom)"
   ]
  },
  {
   "cell_type": "code",
   "execution_count": null,
   "metadata": {
    "hidden": true
   },
   "outputs": [],
   "source": [
    "# confirm this worked with a couple records\n",
    "for key, value in take(2, records.items()):\n",
    "    print(key, value)"
   ]
  },
  {
   "cell_type": "markdown",
   "metadata": {},
   "source": [
    "<a id='metc'></a>"
   ]
  },
  {
   "cell_type": "markdown",
   "metadata": {
    "jp-MarkdownHeadingCollapsed": true
   },
   "source": [
    "## Add a metadata contact element"
   ]
  },
  {
   "cell_type": "markdown",
   "metadata": {},
   "source": [
    "Like the spatial domain element, this is best saved as a string that is converted to an `XMLNode`.\n",
    "\n",
    "Note that the CSDGM schema [requires](https://www.fgdc.gov/csdgmgraphical/metaref/mcntact/cntact.htm) a Contact Person Primary (`cntperp`) OR a Contact Organization Primary (`cntorgp`) under the `cntinfo` node.\n",
    "\n",
    "Use\n",
    "\n",
    "```\n",
    "<cntorgp>\n",
    "    <cntorg></cntorg>\n",
    "    <cntper></cntper>\n",
    "</cntorgp>\n",
    "```\n",
    "OR\n",
    "```\n",
    "<cntperp>\n",
    "  <cntper></cntper>\n",
    "  <cntorg></cntorg>\n",
    "</cntperp>\n",
    "```"
   ]
  },
  {
   "cell_type": "code",
   "execution_count": 565,
   "metadata": {},
   "outputs": [],
   "source": [
    "# add values to the required nodes\n",
    "metc_str = \"\"\"\n",
    "<metc>\n",
    "  <cntinfo>\n",
    "    <cntorgp>\n",
    "        <cntorg></cntorg>\n",
    "        <cntper></cntper>\n",
    "    </cntorgp>\n",
    "    <cntpos></cntpos>\n",
    "    <cntaddr>\n",
    "      <addrtype></addrtype>\n",
    "      <address></address>\n",
    "      <city></city>\n",
    "      <state></state>\n",
    "      <postal></postal>\n",
    "      <country></country>\n",
    "    </cntaddr>\n",
    "    <cntvoice></cntvoice>\n",
    "    <cnttdd></cnttdd>\n",
    "    <cntfax></cntfax>\n",
    "    <cntemail></cntemail>\n",
    "    <hours></hours>\n",
    "    <cntinst></cntinst>\n",
    "  </cntinfo>\n",
    "</metc>\n",
    "\"\"\""
   ]
  },
  {
   "cell_type": "code",
   "execution_count": 566,
   "metadata": {},
   "outputs": [],
   "source": [
    "# make an XMLNode\n",
    "metc = xu.XMLNode(metc_str)\n",
    "\n",
    "# run through the records, filtering out GeoMaterialDict (the metadata contact for this record should be the GeMS group, gems@usgs.gov)\n",
    "for k, v in records.items():\n",
    "    if not k == \"GeoMaterialDict\":\n",
    "        metainfo = extend_branch(v, \"metadata.metainfo\")\n",
    "        metainfo.add_child(metc)"
   ]
  },
  {
   "cell_type": "markdown",
   "metadata": {},
   "source": [
    "<a id='sort_kw'></a>"
   ]
  },
  {
   "cell_type": "markdown",
   "metadata": {
    "heading_collapsed": true,
    "jp-MarkdownHeadingCollapsed": true
   },
   "source": [
    "## Sorting keywords"
   ]
  },
  {
   "cell_type": "markdown",
   "metadata": {
    "hidden": true
   },
   "source": [
    "Sorting keywords is tricky because of a few things:\n",
    "1. There are four classes of keywords; `theme, place, stratum, temporal`, which we will sort according to the order shown in CSDGM documentation and in tkme\n",
    "2. Each class can have keywords organized by multiple thesaurusi, which we want sorted\n",
    "3. Finally, we want to sort the keywords themselves\n",
    "\n",
    "It would be interesting, especially given we are working with geologic data, to sort `temporal` temporally, but for that we need a lookup list for reference and we would need to be confident that the keywords matched the terms in that list. Maybe later!\n",
    "\n",
    "There is a function in `metadata_utilities` that I wrote to make a python dictionary of the entire keywords nest of elements, but it needs to be passed an XML Element Tree so we'll convert the XMLRecord to that first.\n",
    "\n",
    "One other wrinkle: the key word classes or types, whatever they should be called, exist as XML elements with tags with the terms `<theme>, <place>, <stratum>, <temporal>`. One child to every class element is an element that identifies the thesaurus being used for that particular group of keywords. These elements have the tags `<themekt>, <placekt>, <stratkt>, <tempkt>`, meaning that when creating elements from scratch, we can't just use one list of terms. We have to have two to accommodate for `stratum` and `temporal` being truncated to `strat` and `temp` for the thesaurus element. Thus, the list `key_classes` in the cell below is a list of tuples."
   ]
  },
  {
   "cell_type": "code",
   "execution_count": 520,
   "metadata": {
    "hidden": true
   },
   "outputs": [],
   "source": [
    "# a list of keyword classes that is in the CSDGM order\n",
    "key_classes = [(\"theme\", \"theme\"), (\"place\", \"place\"), (\"stratum\", \"strat\"), (\"temporal\", \"temp\")]\n",
    "\n",
    "# first make a dictionary of the keywords children\n",
    "for r in records.values():\n",
    "    if hasattr(r.metadata.idinfo, \"keywords\"):\n",
    "        # make a dictionary of the keywords nest\n",
    "        key_dict = mu.keyword_dict(r.metadata.to_xml())\n",
    "\n",
    "        # remove the children from the original to make room for our sorted items\n",
    "        r.metadata.idinfo.keywords.clear_children()\n",
    "        \n",
    "        for key_class in key_classes:\n",
    "            # find the entries in the key_dict that fall under this key_class\n",
    "            sub_dict = {k:v for k, v in key_dict.items() if k[0] == key_class[0]}\n",
    "            \n",
    "            # build a new dictionary based on the sorted keys of sub_dict\n",
    "            sort_dict = {k: sub_dict[k] for k in sorted(list(sub_dict))}\n",
    "            \n",
    "            # iterate through sort_dict\n",
    "            for k, v in sort_dict.items():\n",
    "                # build a theme/place/stratum/temporal node (a class node)\n",
    "                class_node = xu.XMLNode(tag=key_class[0])\n",
    "                \n",
    "                # build a thesaurus node based on the [1] index of key_classes\n",
    "                # this would be easier if the <class>kt node always used the full string of the\n",
    "                # parent node, but stratum is truncated to strat and temporal is truncated to \n",
    "                # temp, thus the list of tuples in key_classes\n",
    "                thes_node = xu.XMLNode(tag=f\"{key_class[1]}kt\", text=k[1])\n",
    "                \n",
    "                # add the thesaurus node to the class node\n",
    "                class_node.add_child(thes_node)\n",
    "                \n",
    "                # and now iterate through the values of the dictionary to add the individual keywords\n",
    "                for el in sorted(v, key=lambda x: x.text):\n",
    "                    # build a keyword node\n",
    "                    key_node = xu.XMLNode(tag=f\"{key_class[1]}key\", text = el.text)\n",
    "                    # add it to the class node, this is always being added after the <class>kt\n",
    "                    # thesaurus node\n",
    "                    class_node.add_child(key_node)\n",
    "                \n",
    "                # add this keyword class node and it's children to the parent keywords node\n",
    "                r.metadata.idinfo.keywords.add_child(class_node)\n",
    "                \n",
    "        #print(r.metadata.idinfo.keywords)"
   ]
  },
  {
   "cell_type": "markdown",
   "metadata": {},
   "source": [
    "<a id='sort_ents'></a>"
   ]
  },
  {
   "cell_type": "markdown",
   "metadata": {
    "heading_collapsed": true,
    "jp-MarkdownHeadingCollapsed": true
   },
   "source": [
    "## Sorting Entity nodes (tables)"
   ]
  },
  {
   "cell_type": "markdown",
   "metadata": {
    "hidden": true
   },
   "source": [
    "The basic workflow here, which can be copied for other elements, is to\n",
    "1. make a copy of all elements to be sorted, this will be a list\n",
    "2. use the `.clear_children(tag=<tag>)` method to remove the children\n",
    "3. it looks like you also have to delete the attribute from the `XMLRecord` object using `del attr.to.delete`. Bizarre\n",
    "4. sort the list from step 1. by using `sorted(the_list, key=lambda x: x.drill.to.the.attribute.text.lower())`\n",
    "5. add the sorted nodes one by one to the parent node\n",
    "\n",
    "Use `text.lower()` for sorting because all upper-case characters will otherwise be sorted before any lower case characters\n",
    "\n",
    "Sorting entity nodes only makes sense for a database-level record with multiple tables, feature classes, and other entities listed"
   ]
  },
  {
   "cell_type": "code",
   "execution_count": 567,
   "metadata": {
    "hidden": true
   },
   "outputs": [],
   "source": [
    "for k, v in records.items():\n",
    "    #print(k)\n",
    "    try:\n",
    "        # try to make a copy of all detailed nodes. There is one detailed node per table\n",
    "        detaileds = copy.deepcopy(v.metadata.eainfo.detailed)\n",
    "        # XMLRecord saves single attributes as an XMLNode but multiple XMLNodes are saved as a list of XMLNodes.\n",
    "        # If there is just one node, we will convert it to a list of one item so that we don't have to test\n",
    "        # and can use a for loop regardless of whether there is one node or multiple\n",
    "        if detaileds:\n",
    "            if not type(detaileds) == list:\n",
    "                detaileds = None\n",
    "    except AttributeError:\n",
    "        detaileds = None\n",
    "        \n",
    "    if detaileds:\n",
    "        # remove all detailed nodes\n",
    "        v.metadata.eainfo.clear_children(tag='detailed')\n",
    "        del v.metadata.eainfo.detailed\n",
    "\n",
    "        # filter the list in case there are detailed nodes that do not have entities\n",
    "        detaileds = [d for d in detaileds if hasattr(d, \"enttyp\")]\n",
    "    \n",
    "        # sort the list based on enttypl\n",
    "        detaileds = sorted(detaileds, key=lambda x: x.enttyp.enttypl.text.lower())\n",
    "        \n",
    "        # add the sorted detailed nodes to eainfo, starting at index=0 in case there is also\n",
    "        # an Overview_Description (<overview>) node which should be after all detailed nodes\n",
    "        for i, detailed in enumerate(detaileds):\n",
    "            v.metadata.eainfo.add_child(detailed, index=i)\n"
   ]
  },
  {
   "cell_type": "markdown",
   "metadata": {},
   "source": [
    "<a id='sort_attrs'></a>"
   ]
  },
  {
   "cell_type": "markdown",
   "metadata": {
    "heading_collapsed": true,
    "jp-MarkdownHeadingCollapsed": true
   },
   "source": [
    "## Sorting Attribute nodes (fields)"
   ]
  },
  {
   "cell_type": "markdown",
   "metadata": {
    "hidden": true
   },
   "source": [
    "The GeMS metadata tool adds attribute nodes in the same order as the fields as they appear in the table, but for editing or reviewing a template it might be easiest if the fields were listed alphabetically."
   ]
  },
  {
   "cell_type": "code",
   "execution_count": 23,
   "metadata": {
    "hidden": true
   },
   "outputs": [],
   "source": [
    "# If you try to access an attribute that doesn't exist, you trigger an AttributeError\n",
    "# so we'll first test for the existence of eainfo.detailed wtith a try/except block. \n",
    "# The record might be describing a feature dataset, relationship class, topology, raster? which don't have fields\n",
    "# I don't know what all people will want to write metadata for. \n",
    "for k, v in records.items():\n",
    "    #v = records[\"generic_template\"]\n",
    "    attrs = None\n",
    "    try:\n",
    "        detaileds = v.metadata.eainfo.detailed\n",
    "        if detaileds and not type(detaileds) == list:\n",
    "            detaileds = [detaileds]\n",
    "    except AttributeError:\n",
    "        detaileds = None\n",
    "        \n",
    "    if detaileds:\n",
    "        for detailed in detaileds:\n",
    "            if hasattr(detailed, \"attr\"):\n",
    "                # make a copy of all attr nodes\n",
    "                attrs = copy.deepcopy(detailed.attr)\n",
    "\n",
    "                #remove them from original\n",
    "                detailed.clear_children(tag=\"attr\")\n",
    "                del detailed.attr\n",
    "\n",
    "                # if k == \"generic_template\":\n",
    "                #     print(detailed)\n",
    "\n",
    "                # sort attrs on attrlabl\n",
    "                attrs = sorted(attrs, key=lambda x: x.attrlabl.text.lower())\n",
    "\n",
    "                # if k == \"generic_template\":\n",
    "                #     print(detailed.enttyp.enttypl.text)\n",
    "                #     for n in attrs:\n",
    "                #         print(n.attrlabl)\n",
    "\n",
    "                # and add them back to <detailed>\n",
    "                for attr in attrs:\n",
    "                    detailed.add_child(attr)\n",
    "\n",
    "                if k == \"generic_template\":\n",
    "                    print(detailed.enttyp.enttypl.text)\n",
    "                    print(detailed)\n",
    "\n",
    "        if len(detaileds) > 1:\n",
    "            v.metadata.eainfo.clear_children(tag=\"detailed\")\n",
    "            del v.metadata.eainfo.detailed\n",
    "\n",
    "            for detailed in detaileds:\n",
    "                v.metadata.eainfo.add_child(detailed)"
   ]
  },
  {
   "cell_type": "markdown",
   "metadata": {},
   "source": [
    "<a id='sort_source'></a>"
   ]
  },
  {
   "cell_type": "markdown",
   "metadata": {
    "heading_collapsed": true,
    "jp-MarkdownHeadingCollapsed": true
   },
   "source": [
    "## Sorting source info by publication date"
   ]
  },
  {
   "cell_type": "markdown",
   "metadata": {
    "hidden": true
   },
   "source": [
    "The built-in python library `dateutil` can parse many common date formats so we don't need to be too concerned with making sure all dates in the metadata conform to a particular format. For example: \n",
    "```\n",
    "date1 = parser.parse(\"2024-07-30\")\n",
    "date2 = parser.parse(\"Jul 30, 2024\")\n",
    "date3 = parser.parse(\"30/7/24\")\n",
    "date3 = parser.parse(\"5/02\")\n",
    "```\n",
    "all get correctly converted to `datetime` objects. Still, I could never find a list of all the supported formats, so you might run into one that it can't parse. Empty text elements also trigger errors, so make sure everything is filled out or change the code below to catch those exceptions."
   ]
  },
  {
   "cell_type": "code",
   "execution_count": null,
   "metadata": {
    "hidden": true
   },
   "outputs": [],
   "source": [
    "for r in records.values():\n",
    "    try:\n",
    "        srcinfos = r.metadata.dataqual.lineage.srcinfo\n",
    "        # as before, force even a single item into a list of one\n",
    "        if srcinfos and not type(srcinfos) == list:\n",
    "            srcinfos = [srcinfos]\n",
    "    except AttributeError:\n",
    "        srcinfos = None\n",
    "        \n",
    "    if srcinfos:\n",
    "        # remove all <srcinfo> nodes\n",
    "        r.metadata.dataqual.lineage.clear_children(tag='srcinfo')\n",
    "        \n",
    "        # convert pubdate to a datetime object and sort on that in each srcinfo nest\n",
    "        # reverse the sort to put most recent sources first\n",
    "        srcinfos = sorted(srcinfos, key=lambda x: parser.parse(x.srccite.citeinfo.pubdate.text), reverse=True)\n",
    "\n",
    "        for i, srcinfo in enumerate(srcinfos):\n",
    "            r.metadata.dataqual.lineage.add_child(srcinfo, index=i)\n",
    "            \n",
    "        #print(r.metadata.dataqual.lineage)"
   ]
  },
  {
   "cell_type": "markdown",
   "metadata": {},
   "source": [
    "<a id='sort_prcstep'></a>"
   ]
  },
  {
   "cell_type": "markdown",
   "metadata": {
    "heading_collapsed": true,
    "jp-MarkdownHeadingCollapsed": true
   },
   "source": [
    "## Sorting process steps by date"
   ]
  },
  {
   "cell_type": "code",
   "execution_count": null,
   "metadata": {
    "hidden": true
   },
   "outputs": [],
   "source": [
    "for r in records.values():\n",
    "    try:\n",
    "        procsteps = r.metadata.dataqual.lineage.procstep\n",
    "        # as before, force even a single item into a list of one\n",
    "        if procsteps and not type(procsteps) == list:\n",
    "            procsteps = [procsteps]\n",
    "    except AttributeError:\n",
    "        procsteps = None\n",
    "        \n",
    "    if procsteps:\n",
    "        # remove all <srcinfo> nodes\n",
    "        r.metadata.dataqual.lineage.clear_children(tag='procstep')\n",
    "        \n",
    "        # convert pubdate to a datetime object and sort on that in each srcinfo nest\n",
    "        # I think you want to list process steps from oldest to youngest\n",
    "        # but if you want them young to old, add 'reverse=True'\n",
    "        procsteps = sorted(procsteps, key=lambda x: parser.parse(x.procdate.text))\n",
    "\n",
    "        # process steps, according to the CSDGM schema come after Source Information nodes, so\n",
    "        # when we add, we don't need to control the index of insertion, whether alone or\n",
    "        # after Source Info, they will be inserted correctly\n",
    "        for procstep in procsteps:\n",
    "            r.metadata.dataqual.lineage.add_child(procstep)\n",
    "        \n",
    "        #print(r.metadata.dataqual.lineage)"
   ]
  },
  {
   "cell_type": "markdown",
   "metadata": {},
   "source": [
    "<a id='save'></a>"
   ]
  },
  {
   "cell_type": "markdown",
   "metadata": {
    "hidden": true
   },
   "source": [
    "## Save templates to new files"
   ]
  },
  {
   "cell_type": "code",
   "execution_count": 19,
   "metadata": {},
   "outputs": [],
   "source": [
    "save_folder = Path(\"C:\\\\AAA\\\\scratch\\\\metadata_output\")\n",
    "for k, v in records.items():\n",
    "    # change the output names if you want\n",
    "    new_name = k.replace(\"GeMS_\", \"\")\n",
    "    new_name = new_name.replace(\"-metadata\", \"-template\")\n",
    "    #v.save(save_folder / f\"{new_name}.xml\"}\n",
    "    v.save(save_folder / f\"{k}.xml\")"
   ]
  },
  {
   "cell_type": "markdown",
   "metadata": {},
   "source": [
    "## RESET"
   ]
  },
  {
   "cell_type": "code",
   "execution_count": 616,
   "metadata": {},
   "outputs": [],
   "source": [
    "%reset -f"
   ]
  }
 ],
 "metadata": {
  "kernelspec": {
   "display_name": "ArcGISPro",
   "language": "python",
   "name": "python3"
  },
  "language_info": {
   "file_extension": ".py",
   "mimetype": "text/x-python",
   "name": "python",
   "version": "3.11.10"
  }
 },
 "nbformat": 4,
 "nbformat_minor": 4
}
